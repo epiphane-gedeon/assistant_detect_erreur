{
 "cells": [
  {
   "cell_type": "code",
   "execution_count": 1,
   "id": "b8d30a84",
   "metadata": {},
   "outputs": [],
   "source": [
    "from assistant import Assistant \n",
    "# connect_vectorstore, add_documents_to_vectorstore, make_documents"
   ]
  },
  {
   "cell_type": "code",
   "execution_count": 2,
   "id": "07ed00ca",
   "metadata": {},
   "outputs": [],
   "source": [
    "host = \"localhost\"  # Adresse de l'hôte de la base de données\n",
    "port = \"5432\"  # Port de la base de données\n",
    "dbname = \"faqdb\"  # Nom de la base de données\n",
    "user = \"faquser\"  # Nom d'utilisateur de la base de données\n",
    "password = \"faqpass\"\n",
    "table_name = \"faq\"  # Nom de la table dans la base de données\n",
    "question_col = \"question\"  # Nom de la colonne des questions\n",
    "process_col = \"procede\"  # Nom de la colonne des procédures\n",
    "\n",
    "persist_directory = \"chroma_db\"  # Chemin vers le répertoire de persistance\n",
    "collection_name = \"faq\""
   ]
  },
  {
   "cell_type": "code",
   "execution_count": 3,
   "id": "7f0c46a3",
   "metadata": {},
   "outputs": [],
   "source": [
    "# documents = make_documents(host=host, port=port, dbname=dbname, user=user, password=password, table_name=table_name, question_col=question_col, process_col=process_col)"
   ]
  },
  {
   "cell_type": "code",
   "execution_count": 3,
   "id": "8e96f7aa",
   "metadata": {},
   "outputs": [],
   "source": [
    "assist=Assistant(base_url=\"http://116.109.110.233:55209\")"
   ]
  },
  {
   "cell_type": "code",
   "execution_count": 5,
   "id": "0d4e4b51",
   "metadata": {},
   "outputs": [],
   "source": [
    "# vectorstore = assist.conn(persist_directory, collection_name)"
   ]
  },
  {
   "cell_type": "code",
   "execution_count": 4,
   "id": "11ab8e04",
   "metadata": {},
   "outputs": [
    {
     "data": {
      "text/plain": [
       "{'success': True,\n",
       " 'total_documents': 33,\n",
       " 'documents_added': 0,\n",
       " 'documents_skipped': 33,\n",
       " 'unique_sources': 0}"
      ]
     },
     "execution_count": 4,
     "metadata": {},
     "output_type": "execute_result"
    }
   ],
   "source": [
    "assist.update_faq_documents(host=host, port=port, dbname=dbname, user=user, password=password, table_name=table_name)"
   ]
  },
  {
   "cell_type": "code",
   "execution_count": 6,
   "id": "1eb85e1e",
   "metadata": {},
   "outputs": [],
   "source": [
    "from langchain_core.messages import HumanMessage, AIMessage, ToolMessage"
   ]
  },
  {
   "cell_type": "code",
   "execution_count": 7,
   "id": "fb39f759",
   "metadata": {},
   "outputs": [],
   "source": [
    "import base64\n",
    "\n",
    "def encode_image(image_path):\n",
    "    with open(image_path, \"rb\") as image_file:\n",
    "        return base64.b64encode(image_file.read()).decode('utf-8')"
   ]
  },
  {
   "cell_type": "code",
   "execution_count": 8,
   "id": "a458a15c",
   "metadata": {},
   "outputs": [
    {
     "data": {
      "text/plain": [
       "[]"
      ]
     },
     "execution_count": 8,
     "metadata": {},
     "output_type": "execute_result"
    }
   ],
   "source": [
    "assist.get_conversation_history()"
   ]
  },
  {
   "cell_type": "code",
   "execution_count": 9,
   "id": "8a5c26a3",
   "metadata": {},
   "outputs": [],
   "source": [
    "def running_agent():\n",
    "    # Chemin vers ton image\n",
    "    # image_path = \"D:\\\\RAG_NGSTARS\\\\faq.jpg\"\n",
    "\n",
    "    # Encoder l'image\n",
    "    # base64_image = encode_image(image_path)\n",
    "    \n",
    "    print(\"\\n=== RAG AGENT===\")\n",
    "    conv={\n",
    "        \"messages\": [],\n",
    "        \"error_classification\": None\n",
    "    }\n",
    "    \n",
    "    while True:\n",
    "        user_input = input(\"\\nWhat is your question: \")\n",
    "        if user_input.lower() in ['exit', 'quit']:\n",
    "            break\n",
    "        # old_messages= [HumanMessage(content=[{'type': 'text', 'text': 'Je n\\'arrve pas à me connecter à mon compte'}]), AIMessage(content=\"Pour résoudre votre problème de connexion, voici quelques étapes à suivre :\\n\\n1. **Vérifiez vos identifiants** : Assurez-vous que votre nom d'utilisateur et votre mot de passe sont corrects. Les identifiants sont sensibles à la casse, donc vérifiez que la majuscule et la minuscule sont bien respectées.\\n\\n2. **Mot de passe oublié** : Si vous avez oublié votre mot de passe, utilisez la fonction \\\"Mot de passe oublié\\\" disponible sur la page de connexion. Suivez les instructions pour réinitialiser votre mot de passe.\\n\\n3. **Contactez le support technique** : Si le problème persiste après avoir vérifié vos identifiants et réinitialisé votre mot de passe, contactez le support technique. Précisez l'erreur affichée pour une assistance plus rapide.\")]\n",
    "        new_messages = [HumanMessage(\n",
    "        content=[\n",
    "            {\"type\": \"text\", \"text\": user_input},\n",
    "            # {\n",
    "            #     \"type\": \"image_url\",\n",
    "            #     \"image_url\": {\n",
    "            #         \"url\": f\"data:image/jpeg;base64,{base64_image}\"\n",
    "            #     },\n",
    "            # },\n",
    "        ])] # converts back to a HumanMessage type\n",
    "        \n",
    "        conv[\"messages\"] += new_messages\n",
    "\n",
    "        messages = conv\n",
    "        \n",
    "        print(\"conv \",conv)\n",
    "        \n",
    "        print(\"\\n=== MESSAGES ===\")\n",
    "        for msg in messages[\"messages\"]:\n",
    "            if isinstance(msg, HumanMessage):\n",
    "                print(f\"Human: {msg.content}\")\n",
    "            elif isinstance(msg, AIMessage):\n",
    "                print(f\"AI: {msg.content}\")\n",
    "            elif isinstance(msg, ToolMessage):\n",
    "                print(f\"Tool: {msg.name} - {msg.content}\")\n",
    "            else:\n",
    "                print(f\"Unknown Message Type: {msg}\")\n",
    "        \n",
    "        \n",
    "        # result = passe_agent.invoke({\"messages\": messages})\n",
    "        result = assist.chat(messages)\n",
    "        \n",
    "        print(\"\\n=== RESULT ===\")\n",
    "        \n",
    "        print(\"resp \",result['response'])\n",
    "        \n",
    "        # conv[\"messages\"]+=[AIMessage(content=result['response'])]\n",
    "        conv[\"messages\"]=result['response']\n",
    "        conv[\"error_classification\"] = result.get(\"classification\")\n",
    "        \n",
    "        \n",
    "        print(\"new conv \",conv)\n",
    "        \n",
    "        print(\"\\n=== ANSWER ===\")\n",
    "        \n",
    "        for msg in result['response']:\n",
    "            if isinstance(msg, HumanMessage):\n",
    "                print(f\"Human: {msg.content}\")\n",
    "            elif isinstance(msg, AIMessage):\n",
    "                print(f\"AI: {msg}\")\n",
    "            elif isinstance(msg, ToolMessage):\n",
    "                print(f\"Tool: {msg.name} - {msg.content}\")\n",
    "            else:\n",
    "                print(f\"Unknown Message Type: {msg}\\n\")\n",
    "                \n",
    "        print(\"\\n=== FINAL ANSWER ===\")\n",
    "        print(result['response'])\n",
    "        # print(result['response'])"
   ]
  },
  {
   "cell_type": "code",
   "execution_count": 11,
   "id": "6579cae8",
   "metadata": {},
   "outputs": [],
   "source": [
    "# def running_agent():\n",
    "#     # Chemin vers ton image\n",
    "#     image_path = \"faq.jpg\"\n",
    "\n",
    "#     # Encoder l'image\n",
    "#     base64_image = encode_image(image_path)\n",
    "    \n",
    "#     print(\"\\n=== RAG AGENT===\")\n",
    "    \n",
    "#     while True:\n",
    "#         user_input = input(\"\\nWhat is your question: \")\n",
    "#         if user_input.lower() in ['exit', 'quit']:\n",
    "#             break\n",
    "#         old_messages= [HumanMessage(content=[{'type': 'text', 'text': 'Je n\\'arrve pas à me connecter à mon compte'}]), AIMessage(content=\"Pour résoudre votre problème de connexion, voici quelques étapes à suivre :\\n\\n1. **Vérifiez vos identifiants** : Assurez-vous que votre nom d'utilisateur et votre mot de passe sont corrects. Les identifiants sont sensibles à la casse, donc vérifiez que la majuscule et la minuscule sont bien respectées.\\n\\n2. **Mot de passe oublié** : Si vous avez oublié votre mot de passe, utilisez la fonction \\\"Mot de passe oublié\\\" disponible sur la page de connexion. Suivez les instructions pour réinitialiser votre mot de passe.\\n\\n3. **Contactez le support technique** : Si le problème persiste après avoir vérifié vos identifiants et réinitialisé votre mot de passe, contactez le support technique. Précisez l'erreur affichée pour une assistance plus rapide.\")]\n",
    "#         # passe_agent.state.get(\"messages\", [])  \n",
    "#         new_messages = [HumanMessage(\n",
    "#         content=[\n",
    "#             {\"type\": \"text\", \"text\": user_input},\n",
    "#             {\n",
    "#                 \"type\": \"image_url\",\n",
    "#                 \"image_url\": {\n",
    "#                     \"url\": f\"data:image/jpeg;base64,{base64_image}\"\n",
    "#                 },\n",
    "#             },\n",
    "#         ])] # converts back to a HumanMessage type\n",
    "\n",
    "#         messages = old_messages + new_messages\n",
    "\n",
    "#         print(\"\\n=== MESSAGES ===\")\n",
    "#         for msg in messages:\n",
    "#             if isinstance(msg, HumanMessage):\n",
    "#                 print(f\"Human: {msg.content}\")\n",
    "#             elif isinstance(msg, AIMessage):\n",
    "#                 print(f\"AI: {msg.content}\")\n",
    "#             elif isinstance(msg, ToolMessage):\n",
    "#                 print(f\"Tool: {msg.name} - {msg.content}\")\n",
    "#             else:\n",
    "#                 print(f\"Unknown Message Type: {msg}\")\n",
    "        \n",
    "        \n",
    "#         # result = passe_agent.invoke({\"messages\": messages})\n",
    "#         result = assist.chat(messages)\n",
    "        \n",
    "#         print(\"\\n=== ANSWER ===\")\n",
    "        \n",
    "#         for msg in result['response']['messages']:\n",
    "#             if isinstance(msg, HumanMessage):\n",
    "#                 print(f\"Human: {msg.content}\")\n",
    "#             elif isinstance(msg, AIMessage):\n",
    "#                 print(f\"AI: {msg}\")\n",
    "#             elif isinstance(msg, ToolMessage):\n",
    "#                 print(f\"Tool: {msg.name} - {msg.content}\")\n",
    "#             else:\n",
    "#                 print(f\"Unknown Message Type: {msg}\\n\")\n",
    "                \n",
    "#         print(\"\\n=== FINAL ANSWER ===\")\n",
    "#         print(result['response']['messages'][-1].content)"
   ]
  },
  {
   "cell_type": "code",
   "execution_count": 10,
   "id": "a4b070b7",
   "metadata": {},
   "outputs": [
    {
     "name": "stdout",
     "output_type": "stream",
     "text": [
      "\n",
      "=== RAG AGENT===\n",
      "conv  {'messages': [HumanMessage(content=[{'type': 'text', 'text': \"Je n'arriva pas à me connecter à mon compte\"}], additional_kwargs={}, response_metadata={})], 'error_classification': None}\n",
      "\n",
      "=== MESSAGES ===\n",
      "Human: [{'type': 'text', 'text': \"Je n'arriva pas à me connecter à mon compte\"}]\n",
      "[CALL LLM] final state: {'messages': [HumanMessage(content=[{'type': 'text', 'text': \"Je n'arriva pas à me connecter à mon compte\"}], additional_kwargs={}, response_metadata={})], 'error_classification': None}\n",
      "\n",
      "[TAKE ACTION] Calling Tool: 'classifier_tool' with query: Je n'arriva pas à me connecter à mon compte\n",
      "[CLASSIFIER TOOL] Classification Response: ```json\n",
      "{\n",
      "  \"type\": \"technical\",\n",
      "  \"severity\": \"medium\"\n",
      "}\n",
      "```\n",
      "[TAKE ACTION] Result from 'classifier_tool': {'type': 'technical', 'severity': 'medium'}\n",
      "[CALL LLM] final state: {'messages': [HumanMessage(content=[{'type': 'text', 'text': \"Je n'arriva pas à me connecter à mon compte\"}], additional_kwargs={}, response_metadata={}), AIMessage(content='', additional_kwargs={}, response_metadata={'model': 'mistral-small3.1', 'created_at': '2025-08-07T18:15:48.614719509Z', 'done': True, 'done_reason': 'stop', 'total_duration': 21644076286, 'load_duration': 20843321678, 'prompt_eval_count': 247, 'prompt_eval_duration': 365589624, 'eval_count': 32, 'eval_duration': 373288415, 'model_name': 'mistral-small3.1'}, id='run--17e39ef7-ab5a-4540-b9c1-3fd6595e78ec-0', tool_calls=[{'name': 'classifier_tool', 'args': {'query': \"Je n'arriva pas à me connecter à mon compte\"}, 'id': '6664d577-a223-4642-837b-e72704465ab0', 'type': 'tool_call'}], usage_metadata={'input_tokens': 247, 'output_tokens': 32, 'total_tokens': 279}), ToolMessage(content=\"{'type': 'technical', 'severity': 'medium'}\", name='classifier_tool', tool_call_id='6664d577-a223-4642-837b-e72704465ab0')], 'error_classification': {'type': 'technical', 'severity': 'medium'}}\n",
      "\n",
      "[TAKE ACTION] Calling Tool: 'retriever_tool' with query: problème de connexion\n",
      "[TAKE ACTION] Result from 'retriever_tool': Document 1:\n",
      "Je n'arrive pas à me connecter à mon compte. : Vérifiez d'abord que vos identifiants sont corrects. Si vous avez oublié votre mot de passe, utilisez la fonction 'Mot de passe oublié'. Si le problème persiste, contactez le support technique en précisant l'erreur affichée.\n",
      "\n",
      "Document 2:\n",
      "La plateforme est lente, que faire ? : Effacez le cache et les cookies de votre navigateur. Fermez les onglets inutiles. Vérifiez votre connexion internet. Si le problème persiste, changez de navigateur ou redémarrez votre appareil.\n",
      "\n",
      "Document 3:\n",
      "Pourquoi je suis déconnecté automatiquement ? : Par mesure de sécurité, la session expire après une période d’inactivité. Pour éviter cela, pensez à rester actif ou à cocher 'Rester connecté' à la connexion.\n",
      "\n",
      "Document 4:\n",
      "Je ne peux pas envoyer de messages. : Vérifiez si vous êtes bien connecté et que votre compte est actif. Assurez-vous que le destinataire vous autorise à le contacter. Essayez depuis un autre navigateur ou appareil pour exclure un bug local.\n",
      "\n",
      "Document 5:\n",
      "Comment signaler un bug sur la plateforme ? : Cliquez sur le bouton 'Signaler un problème' en bas à gauche. Décrivez le bug rencontré avec les étapes pour le reproduire. Si possible, joignez une capture d’écran. Le support technique vous répondra rapidement.\n",
      "[CALL LLM] final state: {'messages': [HumanMessage(content=[{'type': 'text', 'text': \"Je n'arriva pas à me connecter à mon compte\"}], additional_kwargs={}, response_metadata={}), AIMessage(content='', additional_kwargs={}, response_metadata={'model': 'mistral-small3.1', 'created_at': '2025-08-07T18:15:48.614719509Z', 'done': True, 'done_reason': 'stop', 'total_duration': 21644076286, 'load_duration': 20843321678, 'prompt_eval_count': 247, 'prompt_eval_duration': 365589624, 'eval_count': 32, 'eval_duration': 373288415, 'model_name': 'mistral-small3.1'}, id='run--17e39ef7-ab5a-4540-b9c1-3fd6595e78ec-0', tool_calls=[{'name': 'classifier_tool', 'args': {'query': \"Je n'arriva pas à me connecter à mon compte\"}, 'id': '6664d577-a223-4642-837b-e72704465ab0', 'type': 'tool_call'}], usage_metadata={'input_tokens': 247, 'output_tokens': 32, 'total_tokens': 279}), ToolMessage(content=\"{'type': 'technical', 'severity': 'medium'}\", name='classifier_tool', tool_call_id='6664d577-a223-4642-837b-e72704465ab0'), AIMessage(content='', additional_kwargs={}, response_metadata={'model': 'mistral-small3.1', 'created_at': '2025-08-07T18:15:50.335345045Z', 'done': True, 'done_reason': 'stop', 'total_duration': 394609496, 'load_duration': 53703756, 'prompt_eval_count': 196, 'prompt_eval_duration': 56786824, 'eval_count': 25, 'eval_duration': 280269817, 'model_name': 'mistral-small3.1'}, id='run--dc8a3443-0bce-4db7-bf2f-3d0ec710fd38-0', tool_calls=[{'name': 'retriever_tool', 'args': {'query': 'problème de connexion'}, 'id': '44b2fb23-81cf-463a-92cc-1790ba5024e4', 'type': 'tool_call'}], usage_metadata={'input_tokens': 196, 'output_tokens': 25, 'total_tokens': 221}), ToolMessage(content=\"Document 1:\\nJe n'arrive pas à me connecter à mon compte. : Vérifiez d'abord que vos identifiants sont corrects. Si vous avez oublié votre mot de passe, utilisez la fonction 'Mot de passe oublié'. Si le problème persiste, contactez le support technique en précisant l'erreur affichée.\\n\\nDocument 2:\\nLa plateforme est lente, que faire ? : Effacez le cache et les cookies de votre navigateur. Fermez les onglets inutiles. Vérifiez votre connexion internet. Si le problème persiste, changez de navigateur ou redémarrez votre appareil.\\n\\nDocument 3:\\nPourquoi je suis déconnecté automatiquement ? : Par mesure de sécurité, la session expire après une période d’inactivité. Pour éviter cela, pensez à rester actif ou à cocher 'Rester connecté' à la connexion.\\n\\nDocument 4:\\nJe ne peux pas envoyer de messages. : Vérifiez si vous êtes bien connecté et que votre compte est actif. Assurez-vous que le destinataire vous autorise à le contacter. Essayez depuis un autre navigateur ou appareil pour exclure un bug local.\\n\\nDocument 5:\\nComment signaler un bug sur la plateforme ? : Cliquez sur le bouton 'Signaler un problème' en bas à gauche. Décrivez le bug rencontré avec les étapes pour le reproduire. Si possible, joignez une capture d’écran. Le support technique vous répondra rapidement.\", name='retriever_tool', tool_call_id='44b2fb23-81cf-463a-92cc-1790ba5024e4')], 'error_classification': {'type': 'technical', 'severity': 'medium'}}\n",
      "\n",
      "=== RESULT ===\n",
      "resp  [HumanMessage(content=[{'type': 'text', 'text': \"Je n'arriva pas à me connecter à mon compte\"}], additional_kwargs={}, response_metadata={}), AIMessage(content='Pour résoudre le problème de connexion à votre compte, voici quelques étapes à suivre :\\n\\n1. **Vérifiez vos identifiants** : Assurez-vous que votre nom d\\'utilisateur et votre mot de passe sont corrects.\\n2. **Mot de passe oublié** : Si vous avez oublié votre mot de passe, utilisez la fonction \"Mot de passe oublié\" pour le réinitialiser.\\n3. **Contactez le support technique** : Si le problème persiste, contactez le support technique en précisant l\\'erreur affichée. (Document 1)\\n\\nSi vous avez besoin d\\'aide supplémentaire, n\\'hésitez pas à demander.', additional_kwargs={}, response_metadata={'model': 'mistral-small3.1', 'created_at': '2025-08-07T18:15:52.653912135Z', 'done': True, 'done_reason': 'stop', 'total_duration': 1836732931, 'load_duration': 80359446, 'prompt_eval_count': 408, 'prompt_eval_duration': 113035652, 'eval_count': 135, 'eval_duration': 1638242664, 'model_name': 'mistral-small3.1'}, id='run--db836623-5531-4415-8cd5-210e95d8693c-0', usage_metadata={'input_tokens': 408, 'output_tokens': 135, 'total_tokens': 543})]\n",
      "new conv  {'messages': [HumanMessage(content=[{'type': 'text', 'text': \"Je n'arriva pas à me connecter à mon compte\"}], additional_kwargs={}, response_metadata={}), AIMessage(content='Pour résoudre le problème de connexion à votre compte, voici quelques étapes à suivre :\\n\\n1. **Vérifiez vos identifiants** : Assurez-vous que votre nom d\\'utilisateur et votre mot de passe sont corrects.\\n2. **Mot de passe oublié** : Si vous avez oublié votre mot de passe, utilisez la fonction \"Mot de passe oublié\" pour le réinitialiser.\\n3. **Contactez le support technique** : Si le problème persiste, contactez le support technique en précisant l\\'erreur affichée. (Document 1)\\n\\nSi vous avez besoin d\\'aide supplémentaire, n\\'hésitez pas à demander.', additional_kwargs={}, response_metadata={'model': 'mistral-small3.1', 'created_at': '2025-08-07T18:15:52.653912135Z', 'done': True, 'done_reason': 'stop', 'total_duration': 1836732931, 'load_duration': 80359446, 'prompt_eval_count': 408, 'prompt_eval_duration': 113035652, 'eval_count': 135, 'eval_duration': 1638242664, 'model_name': 'mistral-small3.1'}, id='run--db836623-5531-4415-8cd5-210e95d8693c-0', usage_metadata={'input_tokens': 408, 'output_tokens': 135, 'total_tokens': 543})], 'error_classification': {'type': 'technical', 'severity': 'medium'}}\n",
      "\n",
      "=== ANSWER ===\n",
      "Human: [{'type': 'text', 'text': \"Je n'arriva pas à me connecter à mon compte\"}]\n",
      "AI: content='Pour résoudre le problème de connexion à votre compte, voici quelques étapes à suivre :\\n\\n1. **Vérifiez vos identifiants** : Assurez-vous que votre nom d\\'utilisateur et votre mot de passe sont corrects.\\n2. **Mot de passe oublié** : Si vous avez oublié votre mot de passe, utilisez la fonction \"Mot de passe oublié\" pour le réinitialiser.\\n3. **Contactez le support technique** : Si le problème persiste, contactez le support technique en précisant l\\'erreur affichée. (Document 1)\\n\\nSi vous avez besoin d\\'aide supplémentaire, n\\'hésitez pas à demander.' additional_kwargs={} response_metadata={'model': 'mistral-small3.1', 'created_at': '2025-08-07T18:15:52.653912135Z', 'done': True, 'done_reason': 'stop', 'total_duration': 1836732931, 'load_duration': 80359446, 'prompt_eval_count': 408, 'prompt_eval_duration': 113035652, 'eval_count': 135, 'eval_duration': 1638242664, 'model_name': 'mistral-small3.1'} id='run--db836623-5531-4415-8cd5-210e95d8693c-0' usage_metadata={'input_tokens': 408, 'output_tokens': 135, 'total_tokens': 543}\n",
      "\n",
      "=== FINAL ANSWER ===\n",
      "[HumanMessage(content=[{'type': 'text', 'text': \"Je n'arriva pas à me connecter à mon compte\"}], additional_kwargs={}, response_metadata={}), AIMessage(content='Pour résoudre le problème de connexion à votre compte, voici quelques étapes à suivre :\\n\\n1. **Vérifiez vos identifiants** : Assurez-vous que votre nom d\\'utilisateur et votre mot de passe sont corrects.\\n2. **Mot de passe oublié** : Si vous avez oublié votre mot de passe, utilisez la fonction \"Mot de passe oublié\" pour le réinitialiser.\\n3. **Contactez le support technique** : Si le problème persiste, contactez le support technique en précisant l\\'erreur affichée. (Document 1)\\n\\nSi vous avez besoin d\\'aide supplémentaire, n\\'hésitez pas à demander.', additional_kwargs={}, response_metadata={'model': 'mistral-small3.1', 'created_at': '2025-08-07T18:15:52.653912135Z', 'done': True, 'done_reason': 'stop', 'total_duration': 1836732931, 'load_duration': 80359446, 'prompt_eval_count': 408, 'prompt_eval_duration': 113035652, 'eval_count': 135, 'eval_duration': 1638242664, 'model_name': 'mistral-small3.1'}, id='run--db836623-5531-4415-8cd5-210e95d8693c-0', usage_metadata={'input_tokens': 408, 'output_tokens': 135, 'total_tokens': 543})]\n",
      "conv  {'messages': [HumanMessage(content=[{'type': 'text', 'text': \"Je n'arriva pas à me connecter à mon compte\"}], additional_kwargs={}, response_metadata={}), AIMessage(content='Pour résoudre le problème de connexion à votre compte, voici quelques étapes à suivre :\\n\\n1. **Vérifiez vos identifiants** : Assurez-vous que votre nom d\\'utilisateur et votre mot de passe sont corrects.\\n2. **Mot de passe oublié** : Si vous avez oublié votre mot de passe, utilisez la fonction \"Mot de passe oublié\" pour le réinitialiser.\\n3. **Contactez le support technique** : Si le problème persiste, contactez le support technique en précisant l\\'erreur affichée. (Document 1)\\n\\nSi vous avez besoin d\\'aide supplémentaire, n\\'hésitez pas à demander.', additional_kwargs={}, response_metadata={'model': 'mistral-small3.1', 'created_at': '2025-08-07T18:15:52.653912135Z', 'done': True, 'done_reason': 'stop', 'total_duration': 1836732931, 'load_duration': 80359446, 'prompt_eval_count': 408, 'prompt_eval_duration': 113035652, 'eval_count': 135, 'eval_duration': 1638242664, 'model_name': 'mistral-small3.1'}, id='run--db836623-5531-4415-8cd5-210e95d8693c-0', usage_metadata={'input_tokens': 408, 'output_tokens': 135, 'total_tokens': 543}), HumanMessage(content=[{'type': 'text', 'text': 'Quelle était ma dernière question ?'}], additional_kwargs={}, response_metadata={})], 'error_classification': {'type': 'technical', 'severity': 'medium'}}\n",
      "\n",
      "=== MESSAGES ===\n",
      "Human: [{'type': 'text', 'text': \"Je n'arriva pas à me connecter à mon compte\"}]\n",
      "AI: Pour résoudre le problème de connexion à votre compte, voici quelques étapes à suivre :\n",
      "\n",
      "1. **Vérifiez vos identifiants** : Assurez-vous que votre nom d'utilisateur et votre mot de passe sont corrects.\n",
      "2. **Mot de passe oublié** : Si vous avez oublié votre mot de passe, utilisez la fonction \"Mot de passe oublié\" pour le réinitialiser.\n",
      "3. **Contactez le support technique** : Si le problème persiste, contactez le support technique en précisant l'erreur affichée. (Document 1)\n",
      "\n",
      "Si vous avez besoin d'aide supplémentaire, n'hésitez pas à demander.\n",
      "Human: [{'type': 'text', 'text': 'Quelle était ma dernière question ?'}]\n",
      "[CALL LLM] final state: {'messages': [HumanMessage(content=[{'type': 'text', 'text': \"Je n'arriva pas à me connecter à mon compte\"}], additional_kwargs={}, response_metadata={}), AIMessage(content='Pour résoudre le problème de connexion à votre compte, voici quelques étapes à suivre :\\n\\n1. **Vérifiez vos identifiants** : Assurez-vous que votre nom d\\'utilisateur et votre mot de passe sont corrects.\\n2. **Mot de passe oublié** : Si vous avez oublié votre mot de passe, utilisez la fonction \"Mot de passe oublié\" pour le réinitialiser.\\n3. **Contactez le support technique** : Si le problème persiste, contactez le support technique en précisant l\\'erreur affichée. (Document 1)\\n\\nSi vous avez besoin d\\'aide supplémentaire, n\\'hésitez pas à demander.', additional_kwargs={}, response_metadata={'model': 'mistral-small3.1', 'created_at': '2025-08-07T18:15:52.653912135Z', 'done': True, 'done_reason': 'stop', 'total_duration': 1836732931, 'load_duration': 80359446, 'prompt_eval_count': 408, 'prompt_eval_duration': 113035652, 'eval_count': 135, 'eval_duration': 1638242664, 'model_name': 'mistral-small3.1'}, id='run--db836623-5531-4415-8cd5-210e95d8693c-0', usage_metadata={'input_tokens': 408, 'output_tokens': 135, 'total_tokens': 543}), HumanMessage(content=[{'type': 'text', 'text': 'Quelle était ma dernière question ?'}], additional_kwargs={}, response_metadata={})], 'error_classification': {'type': 'technical', 'severity': 'medium'}}\n",
      "\n",
      "[TAKE ACTION] Calling Tool: 'retriever_tool' with query: problème de connexion\n",
      "[TAKE ACTION] Result from 'retriever_tool': Document 1:\n",
      "Je n'arrive pas à me connecter à mon compte. : Vérifiez d'abord que vos identifiants sont corrects. Si vous avez oublié votre mot de passe, utilisez la fonction 'Mot de passe oublié'. Si le problème persiste, contactez le support technique en précisant l'erreur affichée.\n",
      "\n",
      "Document 2:\n",
      "La plateforme est lente, que faire ? : Effacez le cache et les cookies de votre navigateur. Fermez les onglets inutiles. Vérifiez votre connexion internet. Si le problème persiste, changez de navigateur ou redémarrez votre appareil.\n",
      "\n",
      "Document 3:\n",
      "Pourquoi je suis déconnecté automatiquement ? : Par mesure de sécurité, la session expire après une période d’inactivité. Pour éviter cela, pensez à rester actif ou à cocher 'Rester connecté' à la connexion.\n",
      "\n",
      "Document 4:\n",
      "Je ne peux pas envoyer de messages. : Vérifiez si vous êtes bien connecté et que votre compte est actif. Assurez-vous que le destinataire vous autorise à le contacter. Essayez depuis un autre navigateur ou appareil pour exclure un bug local.\n",
      "\n",
      "Document 5:\n",
      "Comment signaler un bug sur la plateforme ? : Cliquez sur le bouton 'Signaler un problème' en bas à gauche. Décrivez le bug rencontré avec les étapes pour le reproduire. Si possible, joignez une capture d’écran. Le support technique vous répondra rapidement.\n",
      "[CALL LLM] final state: {'messages': [HumanMessage(content=[{'type': 'text', 'text': \"Je n'arriva pas à me connecter à mon compte\"}], additional_kwargs={}, response_metadata={}), AIMessage(content='Pour résoudre le problème de connexion à votre compte, voici quelques étapes à suivre :\\n\\n1. **Vérifiez vos identifiants** : Assurez-vous que votre nom d\\'utilisateur et votre mot de passe sont corrects.\\n2. **Mot de passe oublié** : Si vous avez oublié votre mot de passe, utilisez la fonction \"Mot de passe oublié\" pour le réinitialiser.\\n3. **Contactez le support technique** : Si le problème persiste, contactez le support technique en précisant l\\'erreur affichée. (Document 1)\\n\\nSi vous avez besoin d\\'aide supplémentaire, n\\'hésitez pas à demander.', additional_kwargs={}, response_metadata={'model': 'mistral-small3.1', 'created_at': '2025-08-07T18:15:52.653912135Z', 'done': True, 'done_reason': 'stop', 'total_duration': 1836732931, 'load_duration': 80359446, 'prompt_eval_count': 408, 'prompt_eval_duration': 113035652, 'eval_count': 135, 'eval_duration': 1638242664, 'model_name': 'mistral-small3.1'}, id='run--db836623-5531-4415-8cd5-210e95d8693c-0', usage_metadata={'input_tokens': 408, 'output_tokens': 135, 'total_tokens': 543}), HumanMessage(content=[{'type': 'text', 'text': 'Quelle était ma dernière question ?'}], additional_kwargs={}, response_metadata={}), AIMessage(content=\"Vous avez demandé comment résoudre le problème de connexion à votre compte.\\n\\nJe vais utiliser l'outil de recherche pour trouver des solutions à votre problème de connexion. Voici ce que je vais faire:\\n\\n- Utiliser l'outil de recherche avec votre requête pour trouver des solutions, en citant les sources de documents.\", additional_kwargs={}, response_metadata={'model': 'mistral-small3.1', 'created_at': '2025-08-07T18:21:15.699340055Z', 'done': True, 'done_reason': 'stop', 'total_duration': 4964141773, 'load_duration': 3620055540, 'prompt_eval_count': 185, 'prompt_eval_duration': 265497236, 'eval_count': 89, 'eval_duration': 1030654228, 'model_name': 'mistral-small3.1'}, id='run--5d46a733-f40b-4d3a-b7fa-8cb1d2b67c1b-0', tool_calls=[{'name': 'retriever_tool', 'args': {'query': 'problème de connexion'}, 'id': '4e0c6184-c44b-487b-87eb-c4a8c1f7785d', 'type': 'tool_call'}], usage_metadata={'input_tokens': 185, 'output_tokens': 89, 'total_tokens': 274}), ToolMessage(content=\"Document 1:\\nJe n'arrive pas à me connecter à mon compte. : Vérifiez d'abord que vos identifiants sont corrects. Si vous avez oublié votre mot de passe, utilisez la fonction 'Mot de passe oublié'. Si le problème persiste, contactez le support technique en précisant l'erreur affichée.\\n\\nDocument 2:\\nLa plateforme est lente, que faire ? : Effacez le cache et les cookies de votre navigateur. Fermez les onglets inutiles. Vérifiez votre connexion internet. Si le problème persiste, changez de navigateur ou redémarrez votre appareil.\\n\\nDocument 3:\\nPourquoi je suis déconnecté automatiquement ? : Par mesure de sécurité, la session expire après une période d’inactivité. Pour éviter cela, pensez à rester actif ou à cocher 'Rester connecté' à la connexion.\\n\\nDocument 4:\\nJe ne peux pas envoyer de messages. : Vérifiez si vous êtes bien connecté et que votre compte est actif. Assurez-vous que le destinataire vous autorise à le contacter. Essayez depuis un autre navigateur ou appareil pour exclure un bug local.\\n\\nDocument 5:\\nComment signaler un bug sur la plateforme ? : Cliquez sur le bouton 'Signaler un problème' en bas à gauche. Décrivez le bug rencontré avec les étapes pour le reproduire. Si possible, joignez une capture d’écran. Le support technique vous répondra rapidement.\", name='retriever_tool', tool_call_id='4e0c6184-c44b-487b-87eb-c4a8c1f7785d')], 'error_classification': {'type': 'technical', 'severity': 'medium'}}\n",
      "\n",
      "=== RESULT ===\n",
      "resp  [HumanMessage(content=[{'type': 'text', 'text': \"Je n'arriva pas à me connecter à mon compte\"}], additional_kwargs={}, response_metadata={}), AIMessage(content='Pour résoudre le problème de connexion à votre compte, voici quelques étapes à suivre :\\n\\n1. **Vérifiez vos identifiants** : Assurez-vous que votre nom d\\'utilisateur et votre mot de passe sont corrects.\\n2. **Mot de passe oublié** : Si vous avez oublié votre mot de passe, utilisez la fonction \"Mot de passe oublié\" pour le réinitialiser.\\n3. **Contactez le support technique** : Si le problème persiste, contactez le support technique en précisant l\\'erreur affichée. (Document 1)\\n\\nSi vous avez besoin d\\'aide supplémentaire, n\\'hésitez pas à demander.', additional_kwargs={}, response_metadata={'model': 'mistral-small3.1', 'created_at': '2025-08-07T18:15:52.653912135Z', 'done': True, 'done_reason': 'stop', 'total_duration': 1836732931, 'load_duration': 80359446, 'prompt_eval_count': 408, 'prompt_eval_duration': 113035652, 'eval_count': 135, 'eval_duration': 1638242664, 'model_name': 'mistral-small3.1'}, id='run--db836623-5531-4415-8cd5-210e95d8693c-0', usage_metadata={'input_tokens': 408, 'output_tokens': 135, 'total_tokens': 543}), HumanMessage(content=[{'type': 'text', 'text': 'Quelle était ma dernière question ?'}], additional_kwargs={}, response_metadata={}), AIMessage(content=\"Vous avez demandé comment résoudre le problème de connexion à votre compte.\\n\\nJe vais utiliser l'outil de recherche pour trouver des solutions à votre problème de connexion. Voici ce que je vais faire:\\n\\n- Utiliser l'outil de recherche avec votre requête pour trouver des solutions, en citant les sources de documents.\", additional_kwargs={}, response_metadata={'model': 'mistral-small3.1', 'created_at': '2025-08-07T18:21:15.699340055Z', 'done': True, 'done_reason': 'stop', 'total_duration': 4964141773, 'load_duration': 3620055540, 'prompt_eval_count': 185, 'prompt_eval_duration': 265497236, 'eval_count': 89, 'eval_duration': 1030654228, 'model_name': 'mistral-small3.1'}, id='run--5d46a733-f40b-4d3a-b7fa-8cb1d2b67c1b-0', tool_calls=[{'name': 'retriever_tool', 'args': {'query': 'problème de connexion'}, 'id': '4e0c6184-c44b-487b-87eb-c4a8c1f7785d', 'type': 'tool_call'}], usage_metadata={'input_tokens': 185, 'output_tokens': 89, 'total_tokens': 274}), AIMessage(content=\"Voici les solutions possibles pour votre problème de connexion :\\n\\n1. **Vérifiez vos identifiants** : Assurez-vous que votre nom d'utilisateur et votre mot de passe sont corrects. Si vous avez oublié votre mot de passe, utilisez la fonction 'Mot de passe oublié' pour en créer un nouveau.\\n\\n2. **Contactez le support technique** : Si le problème persiste après avoir vérifié vos identifiants, contactez le support technique en précisant l'erreur affichée. Ils pourront vous fournir une assistance plus approfondie.\\n\\n3. **Vérifiez votre connexion internet** : Assurez-vous que votre connexion internet est stable. Essayez de vous connecter depuis un autre réseau pour voir si le problème persiste.\\n\\n4. **Essayez un autre navigateur ou appareil** : Parfois, des problèmes de compatibilité peuvent empêcher la connexion. Essayez d'accéder à votre compte depuis un autre navigateur ou appareil.\\n\\n5. **Effacez le cache et les cookies** : Des fichiers temporaires peuvent parfois causer des problèmes de connexion. Effacez le cache et les cookies de votre navigateur et essayez de vous reconnecter.\\n\\nSi aucune de ces solutions ne fonctionne, n'hésitez pas à fournir plus de détails sur l'erreur que vous rencontrez afin que je puisse vous aider davantage.\", additional_kwargs={}, response_metadata={'model': 'mistral-small3.1', 'created_at': '2025-08-07T18:21:20.908470132Z', 'done': True, 'done_reason': 'stop', 'total_duration': 3566925903, 'load_duration': 64484253, 'prompt_eval_count': 507, 'prompt_eval_duration': 98659150, 'eval_count': 288, 'eval_duration': 3396747866, 'model_name': 'mistral-small3.1'}, id='run--2f0d839f-f4ff-48dd-a612-51f2bef6e315-0', usage_metadata={'input_tokens': 507, 'output_tokens': 288, 'total_tokens': 795})]\n",
      "new conv  {'messages': [HumanMessage(content=[{'type': 'text', 'text': \"Je n'arriva pas à me connecter à mon compte\"}], additional_kwargs={}, response_metadata={}), AIMessage(content='Pour résoudre le problème de connexion à votre compte, voici quelques étapes à suivre :\\n\\n1. **Vérifiez vos identifiants** : Assurez-vous que votre nom d\\'utilisateur et votre mot de passe sont corrects.\\n2. **Mot de passe oublié** : Si vous avez oublié votre mot de passe, utilisez la fonction \"Mot de passe oublié\" pour le réinitialiser.\\n3. **Contactez le support technique** : Si le problème persiste, contactez le support technique en précisant l\\'erreur affichée. (Document 1)\\n\\nSi vous avez besoin d\\'aide supplémentaire, n\\'hésitez pas à demander.', additional_kwargs={}, response_metadata={'model': 'mistral-small3.1', 'created_at': '2025-08-07T18:15:52.653912135Z', 'done': True, 'done_reason': 'stop', 'total_duration': 1836732931, 'load_duration': 80359446, 'prompt_eval_count': 408, 'prompt_eval_duration': 113035652, 'eval_count': 135, 'eval_duration': 1638242664, 'model_name': 'mistral-small3.1'}, id='run--db836623-5531-4415-8cd5-210e95d8693c-0', usage_metadata={'input_tokens': 408, 'output_tokens': 135, 'total_tokens': 543}), HumanMessage(content=[{'type': 'text', 'text': 'Quelle était ma dernière question ?'}], additional_kwargs={}, response_metadata={}), AIMessage(content=\"Vous avez demandé comment résoudre le problème de connexion à votre compte.\\n\\nJe vais utiliser l'outil de recherche pour trouver des solutions à votre problème de connexion. Voici ce que je vais faire:\\n\\n- Utiliser l'outil de recherche avec votre requête pour trouver des solutions, en citant les sources de documents.\", additional_kwargs={}, response_metadata={'model': 'mistral-small3.1', 'created_at': '2025-08-07T18:21:15.699340055Z', 'done': True, 'done_reason': 'stop', 'total_duration': 4964141773, 'load_duration': 3620055540, 'prompt_eval_count': 185, 'prompt_eval_duration': 265497236, 'eval_count': 89, 'eval_duration': 1030654228, 'model_name': 'mistral-small3.1'}, id='run--5d46a733-f40b-4d3a-b7fa-8cb1d2b67c1b-0', tool_calls=[{'name': 'retriever_tool', 'args': {'query': 'problème de connexion'}, 'id': '4e0c6184-c44b-487b-87eb-c4a8c1f7785d', 'type': 'tool_call'}], usage_metadata={'input_tokens': 185, 'output_tokens': 89, 'total_tokens': 274}), AIMessage(content=\"Voici les solutions possibles pour votre problème de connexion :\\n\\n1. **Vérifiez vos identifiants** : Assurez-vous que votre nom d'utilisateur et votre mot de passe sont corrects. Si vous avez oublié votre mot de passe, utilisez la fonction 'Mot de passe oublié' pour en créer un nouveau.\\n\\n2. **Contactez le support technique** : Si le problème persiste après avoir vérifié vos identifiants, contactez le support technique en précisant l'erreur affichée. Ils pourront vous fournir une assistance plus approfondie.\\n\\n3. **Vérifiez votre connexion internet** : Assurez-vous que votre connexion internet est stable. Essayez de vous connecter depuis un autre réseau pour voir si le problème persiste.\\n\\n4. **Essayez un autre navigateur ou appareil** : Parfois, des problèmes de compatibilité peuvent empêcher la connexion. Essayez d'accéder à votre compte depuis un autre navigateur ou appareil.\\n\\n5. **Effacez le cache et les cookies** : Des fichiers temporaires peuvent parfois causer des problèmes de connexion. Effacez le cache et les cookies de votre navigateur et essayez de vous reconnecter.\\n\\nSi aucune de ces solutions ne fonctionne, n'hésitez pas à fournir plus de détails sur l'erreur que vous rencontrez afin que je puisse vous aider davantage.\", additional_kwargs={}, response_metadata={'model': 'mistral-small3.1', 'created_at': '2025-08-07T18:21:20.908470132Z', 'done': True, 'done_reason': 'stop', 'total_duration': 3566925903, 'load_duration': 64484253, 'prompt_eval_count': 507, 'prompt_eval_duration': 98659150, 'eval_count': 288, 'eval_duration': 3396747866, 'model_name': 'mistral-small3.1'}, id='run--2f0d839f-f4ff-48dd-a612-51f2bef6e315-0', usage_metadata={'input_tokens': 507, 'output_tokens': 288, 'total_tokens': 795})], 'error_classification': {'type': 'technical', 'severity': 'medium'}}\n",
      "\n",
      "=== ANSWER ===\n",
      "Human: [{'type': 'text', 'text': \"Je n'arriva pas à me connecter à mon compte\"}]\n",
      "AI: content='Pour résoudre le problème de connexion à votre compte, voici quelques étapes à suivre :\\n\\n1. **Vérifiez vos identifiants** : Assurez-vous que votre nom d\\'utilisateur et votre mot de passe sont corrects.\\n2. **Mot de passe oublié** : Si vous avez oublié votre mot de passe, utilisez la fonction \"Mot de passe oublié\" pour le réinitialiser.\\n3. **Contactez le support technique** : Si le problème persiste, contactez le support technique en précisant l\\'erreur affichée. (Document 1)\\n\\nSi vous avez besoin d\\'aide supplémentaire, n\\'hésitez pas à demander.' additional_kwargs={} response_metadata={'model': 'mistral-small3.1', 'created_at': '2025-08-07T18:15:52.653912135Z', 'done': True, 'done_reason': 'stop', 'total_duration': 1836732931, 'load_duration': 80359446, 'prompt_eval_count': 408, 'prompt_eval_duration': 113035652, 'eval_count': 135, 'eval_duration': 1638242664, 'model_name': 'mistral-small3.1'} id='run--db836623-5531-4415-8cd5-210e95d8693c-0' usage_metadata={'input_tokens': 408, 'output_tokens': 135, 'total_tokens': 543}\n",
      "Human: [{'type': 'text', 'text': 'Quelle était ma dernière question ?'}]\n",
      "AI: content=\"Vous avez demandé comment résoudre le problème de connexion à votre compte.\\n\\nJe vais utiliser l'outil de recherche pour trouver des solutions à votre problème de connexion. Voici ce que je vais faire:\\n\\n- Utiliser l'outil de recherche avec votre requête pour trouver des solutions, en citant les sources de documents.\" additional_kwargs={} response_metadata={'model': 'mistral-small3.1', 'created_at': '2025-08-07T18:21:15.699340055Z', 'done': True, 'done_reason': 'stop', 'total_duration': 4964141773, 'load_duration': 3620055540, 'prompt_eval_count': 185, 'prompt_eval_duration': 265497236, 'eval_count': 89, 'eval_duration': 1030654228, 'model_name': 'mistral-small3.1'} id='run--5d46a733-f40b-4d3a-b7fa-8cb1d2b67c1b-0' tool_calls=[{'name': 'retriever_tool', 'args': {'query': 'problème de connexion'}, 'id': '4e0c6184-c44b-487b-87eb-c4a8c1f7785d', 'type': 'tool_call'}] usage_metadata={'input_tokens': 185, 'output_tokens': 89, 'total_tokens': 274}\n",
      "AI: content=\"Voici les solutions possibles pour votre problème de connexion :\\n\\n1. **Vérifiez vos identifiants** : Assurez-vous que votre nom d'utilisateur et votre mot de passe sont corrects. Si vous avez oublié votre mot de passe, utilisez la fonction 'Mot de passe oublié' pour en créer un nouveau.\\n\\n2. **Contactez le support technique** : Si le problème persiste après avoir vérifié vos identifiants, contactez le support technique en précisant l'erreur affichée. Ils pourront vous fournir une assistance plus approfondie.\\n\\n3. **Vérifiez votre connexion internet** : Assurez-vous que votre connexion internet est stable. Essayez de vous connecter depuis un autre réseau pour voir si le problème persiste.\\n\\n4. **Essayez un autre navigateur ou appareil** : Parfois, des problèmes de compatibilité peuvent empêcher la connexion. Essayez d'accéder à votre compte depuis un autre navigateur ou appareil.\\n\\n5. **Effacez le cache et les cookies** : Des fichiers temporaires peuvent parfois causer des problèmes de connexion. Effacez le cache et les cookies de votre navigateur et essayez de vous reconnecter.\\n\\nSi aucune de ces solutions ne fonctionne, n'hésitez pas à fournir plus de détails sur l'erreur que vous rencontrez afin que je puisse vous aider davantage.\" additional_kwargs={} response_metadata={'model': 'mistral-small3.1', 'created_at': '2025-08-07T18:21:20.908470132Z', 'done': True, 'done_reason': 'stop', 'total_duration': 3566925903, 'load_duration': 64484253, 'prompt_eval_count': 507, 'prompt_eval_duration': 98659150, 'eval_count': 288, 'eval_duration': 3396747866, 'model_name': 'mistral-small3.1'} id='run--2f0d839f-f4ff-48dd-a612-51f2bef6e315-0' usage_metadata={'input_tokens': 507, 'output_tokens': 288, 'total_tokens': 795}\n",
      "\n",
      "=== FINAL ANSWER ===\n",
      "[HumanMessage(content=[{'type': 'text', 'text': \"Je n'arriva pas à me connecter à mon compte\"}], additional_kwargs={}, response_metadata={}), AIMessage(content='Pour résoudre le problème de connexion à votre compte, voici quelques étapes à suivre :\\n\\n1. **Vérifiez vos identifiants** : Assurez-vous que votre nom d\\'utilisateur et votre mot de passe sont corrects.\\n2. **Mot de passe oublié** : Si vous avez oublié votre mot de passe, utilisez la fonction \"Mot de passe oublié\" pour le réinitialiser.\\n3. **Contactez le support technique** : Si le problème persiste, contactez le support technique en précisant l\\'erreur affichée. (Document 1)\\n\\nSi vous avez besoin d\\'aide supplémentaire, n\\'hésitez pas à demander.', additional_kwargs={}, response_metadata={'model': 'mistral-small3.1', 'created_at': '2025-08-07T18:15:52.653912135Z', 'done': True, 'done_reason': 'stop', 'total_duration': 1836732931, 'load_duration': 80359446, 'prompt_eval_count': 408, 'prompt_eval_duration': 113035652, 'eval_count': 135, 'eval_duration': 1638242664, 'model_name': 'mistral-small3.1'}, id='run--db836623-5531-4415-8cd5-210e95d8693c-0', usage_metadata={'input_tokens': 408, 'output_tokens': 135, 'total_tokens': 543}), HumanMessage(content=[{'type': 'text', 'text': 'Quelle était ma dernière question ?'}], additional_kwargs={}, response_metadata={}), AIMessage(content=\"Vous avez demandé comment résoudre le problème de connexion à votre compte.\\n\\nJe vais utiliser l'outil de recherche pour trouver des solutions à votre problème de connexion. Voici ce que je vais faire:\\n\\n- Utiliser l'outil de recherche avec votre requête pour trouver des solutions, en citant les sources de documents.\", additional_kwargs={}, response_metadata={'model': 'mistral-small3.1', 'created_at': '2025-08-07T18:21:15.699340055Z', 'done': True, 'done_reason': 'stop', 'total_duration': 4964141773, 'load_duration': 3620055540, 'prompt_eval_count': 185, 'prompt_eval_duration': 265497236, 'eval_count': 89, 'eval_duration': 1030654228, 'model_name': 'mistral-small3.1'}, id='run--5d46a733-f40b-4d3a-b7fa-8cb1d2b67c1b-0', tool_calls=[{'name': 'retriever_tool', 'args': {'query': 'problème de connexion'}, 'id': '4e0c6184-c44b-487b-87eb-c4a8c1f7785d', 'type': 'tool_call'}], usage_metadata={'input_tokens': 185, 'output_tokens': 89, 'total_tokens': 274}), AIMessage(content=\"Voici les solutions possibles pour votre problème de connexion :\\n\\n1. **Vérifiez vos identifiants** : Assurez-vous que votre nom d'utilisateur et votre mot de passe sont corrects. Si vous avez oublié votre mot de passe, utilisez la fonction 'Mot de passe oublié' pour en créer un nouveau.\\n\\n2. **Contactez le support technique** : Si le problème persiste après avoir vérifié vos identifiants, contactez le support technique en précisant l'erreur affichée. Ils pourront vous fournir une assistance plus approfondie.\\n\\n3. **Vérifiez votre connexion internet** : Assurez-vous que votre connexion internet est stable. Essayez de vous connecter depuis un autre réseau pour voir si le problème persiste.\\n\\n4. **Essayez un autre navigateur ou appareil** : Parfois, des problèmes de compatibilité peuvent empêcher la connexion. Essayez d'accéder à votre compte depuis un autre navigateur ou appareil.\\n\\n5. **Effacez le cache et les cookies** : Des fichiers temporaires peuvent parfois causer des problèmes de connexion. Effacez le cache et les cookies de votre navigateur et essayez de vous reconnecter.\\n\\nSi aucune de ces solutions ne fonctionne, n'hésitez pas à fournir plus de détails sur l'erreur que vous rencontrez afin que je puisse vous aider davantage.\", additional_kwargs={}, response_metadata={'model': 'mistral-small3.1', 'created_at': '2025-08-07T18:21:20.908470132Z', 'done': True, 'done_reason': 'stop', 'total_duration': 3566925903, 'load_duration': 64484253, 'prompt_eval_count': 507, 'prompt_eval_duration': 98659150, 'eval_count': 288, 'eval_duration': 3396747866, 'model_name': 'mistral-small3.1'}, id='run--2f0d839f-f4ff-48dd-a612-51f2bef6e315-0', usage_metadata={'input_tokens': 507, 'output_tokens': 288, 'total_tokens': 795})]\n"
     ]
    }
   ],
   "source": [
    "running_agent()"
   ]
  },
  {
   "cell_type": "code",
   "execution_count": 13,
   "id": "a9bfdbb4",
   "metadata": {},
   "outputs": [],
   "source": [
    "# import random\n",
    "\n",
    "# entries = []\n",
    "# while True:\n",
    "#     entry = input(\"Entrez une chaîne de caractères (ou 'end' pour terminer) : \")\n",
    "#     if entry == \"end\":\n",
    "#         break\n",
    "#     entries.append(entry)\n",
    "\n",
    "# random.shuffle(entries)\n",
    "\n",
    "# for item in entries:\n",
    "#     print(item)"
   ]
  }
 ],
 "metadata": {
  "kernelspec": {
   "display_name": ".venv",
   "language": "python",
   "name": "python3"
  },
  "language_info": {
   "codemirror_mode": {
    "name": "ipython",
    "version": 3
   },
   "file_extension": ".py",
   "mimetype": "text/x-python",
   "name": "python",
   "nbconvert_exporter": "python",
   "pygments_lexer": "ipython3",
   "version": "3.12.6"
  }
 },
 "nbformat": 4,
 "nbformat_minor": 5
}
