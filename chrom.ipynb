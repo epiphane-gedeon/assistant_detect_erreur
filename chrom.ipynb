{
 "cells": [
  {
   "cell_type": "code",
   "execution_count": 2,
   "id": "2f8620f3",
   "metadata": {},
   "outputs": [],
   "source": [
    "import psycopg2\n",
    "from langchain_ollama.embeddings import OllamaEmbeddings\n",
    "from langchain_ollama import OllamaLLM\n",
    "from langchain_chroma import Chroma\n",
    "from langchain_core.documents import Document\n",
    "import chromadb"
   ]
  },
  {
   "cell_type": "code",
   "execution_count": 3,
   "id": "730f6cea",
   "metadata": {},
   "outputs": [
    {
     "data": {
      "text/plain": [
       "[Document(metadata={'question': 'Comment réinitialiser mon mot de passe ?'}, page_content=\"Accédez à la page de connexion de la plateforme. Cliquez sur 'Mot de passe oublié'. Entrez votre adresse e-mail associée à votre compte. Vous recevrez un lien de réinitialisation par e-mail. Cliquez dessus et définissez un nouveau mot de passe sécurisé.\"),\n",
       " Document(metadata={'question': \"Je n'arrive pas à me connecter à mon compte.\"}, page_content=\"Vérifiez d'abord que vos identifiants sont corrects. Si vous avez oublié votre mot de passe, utilisez la fonction 'Mot de passe oublié'. Si le problème persiste, contactez le support technique en précisant l'erreur affichée.\"),\n",
       " Document(metadata={'question': 'Comment signaler un bug sur la plateforme ?'}, page_content=\"Cliquez sur le bouton 'Signaler un problème' en bas à gauche. Décrivez le bug rencontré avec les étapes pour le reproduire. Si possible, joignez une capture d’écran. Le support technique vous répondra rapidement.\"),\n",
       " Document(metadata={'question': 'Comment modifier mes informations personnelles ?'}, page_content=\"Connectez-vous à votre compte. Allez dans la section 'Profil' ou 'Paramètres'. Cliquez sur 'Modifier les informations'. Mettez à jour vos données (nom, prénom, téléphone, etc.), puis cliquez sur 'Enregistrer'.\"),\n",
       " Document(metadata={'question': 'Pourquoi mes changements ne sont-ils pas enregistrés ?'}, page_content=\"Assurez-vous d’avoir cliqué sur 'Enregistrer' après modification. Vérifiez aussi que tous les champs obligatoires sont remplis. Si une erreur persiste, videz le cache de votre navigateur et réessayez.\"),\n",
       " Document(metadata={'question': 'Je reçois une erreur 500 sur certaines pages.'}, page_content='Cela peut être dû à un problème serveur temporaire. Attendez quelques minutes puis actualisez la page. Si l’erreur persiste, signalez-la au support en précisant l’URL et l’heure d’occurrence.'),\n",
       " Document(metadata={'question': 'Comment contacter l’équipe support ?'}, page_content='Utilisez le formulaire de contact intégré à la plateforme ou envoyez un e-mail à support@votreplateforme.com. Donnez un maximum de détails sur votre problème pour faciliter la prise en charge.'),\n",
       " Document(metadata={'question': 'Mon compte a été désactivé sans raison.'}, page_content='Il est possible que votre compte ait été suspendu pour des raisons de sécurité. Contactez immédiatement le support pour vérifier l’état de votre compte et demander une réactivation.'),\n",
       " Document(metadata={'question': 'Comment télécharger mes données personnelles ?'}, page_content=\"Rendez-vous dans 'Paramètres' > 'Confidentialité'. Cliquez sur 'Exporter mes données'. Un fichier ZIP contenant vos données sera généré et envoyé par e-mail ou téléchargeable depuis la plateforme.\"),\n",
       " Document(metadata={'question': 'Pourquoi je ne reçois pas les e-mails de la plateforme ?'}, page_content='Vérifiez votre dossier spam/courrier indésirable. Ajoutez l’adresse support@votreplateforme.com à vos contacts. Assurez-vous que votre boîte mail n’est pas saturée. Contactez le support si le problème continue.'),\n",
       " Document(metadata={'question': 'Comment supprimer mon compte ?'}, page_content=\"Connectez-vous, allez dans 'Paramètres' > 'Confidentialité'. Cliquez sur 'Supprimer mon compte'. Confirmez votre mot de passe et validez. Vos données seront supprimées dans les 30 jours.\"),\n",
       " Document(metadata={'question': 'Puis-je changer mon adresse e-mail ?'}, page_content=\"Oui. Connectez-vous, allez dans 'Paramètres' > 'Informations personnelles'. Cliquez sur 'Modifier l’adresse e-mail', entrez la nouvelle et confirmez via le lien envoyé à la nouvelle adresse.\"),\n",
       " Document(metadata={'question': 'La plateforme est lente, que faire ?'}, page_content='Effacez le cache et les cookies de votre navigateur. Fermez les onglets inutiles. Vérifiez votre connexion internet. Si le problème persiste, changez de navigateur ou redémarrez votre appareil.'),\n",
       " Document(metadata={'question': 'Comment activer la double authentification ?'}, page_content=\"Allez dans 'Sécurité' > 'Double authentification'. Activez-la et suivez les instructions (souvent un QR code à scanner avec Google Authenticator ou autre app de sécurité).\"),\n",
       " Document(metadata={'question': 'Est-ce que mes données sont sécurisées ?'}, page_content='Oui, la plateforme utilise des protocoles de chiffrement (HTTPS, stockage crypté) et applique les normes RGPD. Vous pouvez consulter la politique de confidentialité dans les paramètres.'),\n",
       " Document(metadata={'question': 'Puis-je utiliser la plateforme sur mobile ?'}, page_content='Oui, la plateforme est responsive. Vous pouvez y accéder via un navigateur mobile ou une application dédiée si elle existe. Pour une meilleure expérience, utilisez un navigateur à jour.'),\n",
       " Document(metadata={'question': 'Comment rejoindre un groupe ou une équipe ?'}, page_content=\"Dans la section 'Groupes', cliquez sur 'Rejoindre un groupe'. Entrez le code d’invitation fourni ou demandez l’accès via un administrateur. Une fois accepté, vous apparaîtrez dans la liste des membres.\"),\n",
       " Document(metadata={'question': 'Je ne peux pas envoyer de messages.'}, page_content='Vérifiez si vous êtes bien connecté et que votre compte est actif. Assurez-vous que le destinataire vous autorise à le contacter. Essayez depuis un autre navigateur ou appareil pour exclure un bug local.'),\n",
       " Document(metadata={'question': 'L’interface ne s’affiche pas correctement.'}, page_content='Videz le cache du navigateur. Essayez d’actualiser avec Ctrl+F5. Testez dans un autre navigateur. Si le problème persiste, décrivez-le précisément au support avec des captures.'),\n",
       " Document(metadata={'question': 'Comment voir l’historique de mes actions ?'}, page_content=\"Allez dans 'Mon compte' > 'Historique' ou 'Activité'. Vous y verrez la liste de vos connexions, actions récentes et modifications apportées. Certaines plateformes proposent aussi des exports CSV.\"),\n",
       " Document(metadata={'question': 'Comment créer un nouveau projet sur la plateforme ?'}, page_content=\"Cliquez sur 'Créer un projet' dans le tableau de bord. Donnez-lui un nom, une description, définissez les membres et les droits d'accès, puis cliquez sur 'Valider'. Le projet sera disponible dans votre interface.\"),\n",
       " Document(metadata={'question': \"Je n'arrive pas à joindre un fichier.\"}, page_content='Vérifiez la taille du fichier (souvent limitée à 10 ou 20 Mo). Autorisez les fenêtres pop-up si nécessaire. Essayez un autre navigateur. Si le bug persiste, signalez-le au support.'),\n",
       " Document(metadata={'question': 'Comment changer la langue de l’interface ?'}, page_content=\"Allez dans 'Paramètres' > 'Langue'. Choisissez la langue souhaitée dans le menu déroulant et cliquez sur 'Enregistrer'. L’interface se rechargera automatiquement dans la nouvelle langue.\"),\n",
       " Document(metadata={'question': 'Pourquoi je suis déconnecté automatiquement ?'}, page_content=\"Par mesure de sécurité, la session expire après une période d’inactivité. Pour éviter cela, pensez à rester actif ou à cocher 'Rester connecté' à la connexion.\"),\n",
       " Document(metadata={'question': 'Est-il possible de collaborer à plusieurs en même temps ?'}, page_content='Oui, si votre plateforme le permet. Les membres d’un même projet peuvent éditer en parallèle, et les modifications sont soit en temps réel, soit synchronisées périodiquement selon les réglages.'),\n",
       " Document(metadata={'question': 'Je veux archiver un ancien projet.'}, page_content=\"Allez dans 'Mes projets', cliquez sur le menu du projet concerné, puis sur 'Archiver'. Il sera déplacé dans la section 'Archives' et ne sera plus modifiable sauf restauration.\"),\n",
       " Document(metadata={'question': 'Comment restaurer un projet archivé ?'}, page_content=\"Dans la section 'Archives', trouvez le projet, cliquez sur 'Restaurer'. Il reviendra dans votre liste active. Certaines plateformes imposent des délais maximum pour restaurer (ex : 30 jours).\"),\n",
       " Document(metadata={'question': 'Je ne peux pas accéder à certaines fonctionnalités.'}, page_content='Cela peut être dû à des droits d’utilisateur limités. Vérifiez votre rôle dans l’équipe ou le projet. Contactez un administrateur ou le support pour demander un accès élargi.'),\n",
       " Document(metadata={'question': 'Où consulter les mises à jour de la plateforme ?'}, page_content=\"Allez dans 'Centre d’aide' > 'Mises à jour' ou 'Journal des modifications'. Vous y trouverez les dernières améliorations, corrections de bugs et nouvelles fonctionnalités.\"),\n",
       " Document(metadata={'question': 'Comment désactiver les notifications ?'}, page_content=\"Dans 'Paramètres' > 'Notifications', vous pouvez désactiver les sons, les alertes par e-mail ou les notifications push en fonction de vos préférences.\")]"
      ]
     },
     "execution_count": 3,
     "metadata": {},
     "output_type": "execute_result"
    }
   ],
   "source": [
    "# Étape 1 : Connexion PostgreSQL\n",
    "conn = psycopg2.connect(\n",
    "    dbname=\"faqdb\",\n",
    "    user=\"faquser\",\n",
    "    password=\"faqpass\",\n",
    "    host=\"localhost\",\n",
    "    port=\"5432\"\n",
    ")\n",
    "\n",
    "cur = conn.cursor()\n",
    "cur.execute(\"SELECT question, procede FROM FAQ\")\n",
    "rows = cur.fetchall()\n",
    "\n",
    "# Étape 2 : Conversion en documents LangChain\n",
    "documents = [Document(page_content=row[1], metadata={\"question\": row[0]}) for row in rows]\n",
    "\n",
    "documents\n"
   ]
  },
  {
   "cell_type": "code",
   "execution_count": 4,
   "id": "15a5914c",
   "metadata": {},
   "outputs": [
    {
     "name": "stdout",
     "output_type": "stream",
     "text": [
      "30 documents indexés avec succès.\n"
     ]
    }
   ],
   "source": [
    "# Étape 3 : Initialisation des embeddings avec Ollama\n",
    "embeddings = OllamaEmbeddings(model=\"nomic-embed-text\")  # ou autre modèle compatible\n",
    "\n",
    "# Étape 4 : Sauvegarde dans Chroma (persistant)\n",
    "db = Chroma.from_documents(\n",
    "    documents=documents,\n",
    "    embedding=embeddings,\n",
    "    persist_directory=\"./chroma_faq\"\n",
    ")\n",
    "\n",
    "# Sauvegarde explicite si besoin\n",
    "# db.persist()\n",
    "\n",
    "print(f\"{len(rows)} documents indexés avec succès.\")"
   ]
  },
  {
   "cell_type": "code",
   "execution_count": 7,
   "id": "82c8cdf8",
   "metadata": {},
   "outputs": [],
   "source": [
    "query = \"Je n'arrive pas à me connecter à mon compte\"\n",
    "# results = db.similarity_search(query, k=4)\n",
    "\n",
    "# for i, doc in enumerate(results, 1):\n",
    "#     print(f\"Résultat {i} :\\n{doc.metadata['question']}\\n➡ {doc.page_content}\\n\")\n"
   ]
  },
  {
   "cell_type": "code",
   "execution_count": 4,
   "id": "5a4b5874",
   "metadata": {},
   "outputs": [],
   "source": [
    "db = None\n",
    "embeddings = OllamaEmbeddings(model=\"nomic-embed-text\")\n",
    "db= Chroma(\n",
    "    persist_directory=\"./chroma_faq\", \n",
    "    embedding_function=embeddings\n",
    ")"
   ]
  },
  {
   "cell_type": "code",
   "execution_count": 11,
   "id": "b4a150c0",
   "metadata": {},
   "outputs": [],
   "source": [
    "db=None"
   ]
  },
  {
   "cell_type": "code",
   "execution_count": 5,
   "id": "21da247e",
   "metadata": {},
   "outputs": [],
   "source": [
    "retriever = db.as_retriever()"
   ]
  },
  {
   "cell_type": "code",
   "execution_count": 8,
   "id": "95d138d9",
   "metadata": {},
   "outputs": [],
   "source": [
    "docs= retriever.invoke(query)"
   ]
  },
  {
   "cell_type": "code",
   "execution_count": 9,
   "id": "ea0edcf6",
   "metadata": {},
   "outputs": [
    {
     "data": {
      "text/plain": [
       "4"
      ]
     },
     "execution_count": 9,
     "metadata": {},
     "output_type": "execute_result"
    }
   ],
   "source": [
    "len(docs)"
   ]
  },
  {
   "cell_type": "code",
   "execution_count": 10,
   "id": "fd49d573",
   "metadata": {},
   "outputs": [
    {
     "data": {
      "text/plain": [
       "[Document(id='03e8d92e-2720-417c-bcf0-3ff0cabdc090', metadata={'question': 'Comment modifier mes informations personnelles ?'}, page_content=\"Connectez-vous à votre compte. Allez dans la section 'Profil' ou 'Paramètres'. Cliquez sur 'Modifier les informations'. Mettez à jour vos données (nom, prénom, téléphone, etc.), puis cliquez sur 'Enregistrer'.\"),\n",
       " Document(id='78a08d7c-45fc-42ef-a52e-c657df510e92', metadata={'question': 'Je ne peux pas envoyer de messages.'}, page_content='Vérifiez si vous êtes bien connecté et que votre compte est actif. Assurez-vous que le destinataire vous autorise à le contacter. Essayez depuis un autre navigateur ou appareil pour exclure un bug local.'),\n",
       " Document(id='b2d7c151-02c5-4e75-9ad7-a84ba5a33195', metadata={'question': 'Comment supprimer mon compte ?'}, page_content=\"Connectez-vous, allez dans 'Paramètres' > 'Confidentialité'. Cliquez sur 'Supprimer mon compte'. Confirmez votre mot de passe et validez. Vos données seront supprimées dans les 30 jours.\"),\n",
       " Document(id='fc9be6b1-16f3-4210-9e16-7ecb61929d17', metadata={'question': 'Comment voir l’historique de mes actions ?'}, page_content=\"Allez dans 'Mon compte' > 'Historique' ou 'Activité'. Vous y verrez la liste de vos connexions, actions récentes et modifications apportées. Certaines plateformes proposent aussi des exports CSV.\")]"
      ]
     },
     "execution_count": 10,
     "metadata": {},
     "output_type": "execute_result"
    }
   ],
   "source": [
    "docs"
   ]
  },
  {
   "cell_type": "code",
   "execution_count": 13,
   "id": "54ebf6dc",
   "metadata": {},
   "outputs": [],
   "source": [
    "retriever = db.as_retriever(search_kwargs={\"k\": 4})"
   ]
  },
  {
   "cell_type": "code",
   "execution_count": 14,
   "id": "c5338dcd",
   "metadata": {},
   "outputs": [
    {
     "data": {
      "text/plain": [
       "'similarity'"
      ]
     },
     "execution_count": 14,
     "metadata": {},
     "output_type": "execute_result"
    }
   ],
   "source": [
    "retriever.search_type"
   ]
  },
  {
   "cell_type": "markdown",
   "id": "1805dba1",
   "metadata": {},
   "source": [
    "# Make a chain"
   ]
  },
  {
   "cell_type": "code",
   "execution_count": 15,
   "id": "11c31cc7",
   "metadata": {},
   "outputs": [],
   "source": [
    "from langchain.chains import RetrievalQA"
   ]
  },
  {
   "cell_type": "code",
   "execution_count": 16,
   "id": "5e0c6167",
   "metadata": {},
   "outputs": [],
   "source": [
    "llm=OllamaLLM(model=\"mistral\", temperature=0.1)"
   ]
  },
  {
   "cell_type": "code",
   "execution_count": 17,
   "id": "c90bf954",
   "metadata": {},
   "outputs": [
    {
     "data": {
      "text/plain": [
       "OllamaLLM(model='mistral', temperature=0.1)"
      ]
     },
     "execution_count": 17,
     "metadata": {},
     "output_type": "execute_result"
    }
   ],
   "source": [
    "llm"
   ]
  },
  {
   "cell_type": "code",
   "execution_count": 18,
   "id": "221179bb",
   "metadata": {},
   "outputs": [],
   "source": [
    "qa_chain = RetrievalQA.from_chain_type(\n",
    "    llm=llm,\n",
    "    chain_type=\"stuff\",\n",
    "    retriever=retriever,\n",
    "    return_source_documents=True\n",
    ")"
   ]
  },
  {
   "cell_type": "code",
   "execution_count": 20,
   "id": "03ebcbe1",
   "metadata": {},
   "outputs": [],
   "source": [
    "def process_llm_response(llm_response):\n",
    "    print(llm_response['result'])\n",
    "    # print('\\n\\nSources:')\n",
    "    # for source in llm_response[\"source_documents\"]:\n",
    "    #     print(source.metadata['question'])"
   ]
  },
  {
   "cell_type": "code",
   "execution_count": 21,
   "id": "9c56a6d4",
   "metadata": {},
   "outputs": [
    {
     "data": {
      "text/plain": [
       "{'query': \"Je n'arrive pas à me connecter à mon compte\",\n",
       " 'result': '1. Ensure that you are entering the correct login credentials (email and password).\\n2. Check if your account is active. If it\\'s not, you may need to activate it or reset your password.\\n3. Try logging in from a different browser or device to exclude a local bug.\\n4. Make sure that there are no typos or errors in the URL of the website you are trying to access.\\n5. If you still can\\'t log in, try resetting your password by clicking on \"Forgot Password\" or \"Reset Password\" link on the login page.\\n6. If none of these steps work, contact the customer support team for assistance.',\n",
       " 'source_documents': [Document(id='03e8d92e-2720-417c-bcf0-3ff0cabdc090', metadata={'question': 'Comment modifier mes informations personnelles ?'}, page_content=\"Connectez-vous à votre compte. Allez dans la section 'Profil' ou 'Paramètres'. Cliquez sur 'Modifier les informations'. Mettez à jour vos données (nom, prénom, téléphone, etc.), puis cliquez sur 'Enregistrer'.\"),\n",
       "  Document(id='78a08d7c-45fc-42ef-a52e-c657df510e92', metadata={'question': 'Je ne peux pas envoyer de messages.'}, page_content='Vérifiez si vous êtes bien connecté et que votre compte est actif. Assurez-vous que le destinataire vous autorise à le contacter. Essayez depuis un autre navigateur ou appareil pour exclure un bug local.'),\n",
       "  Document(id='b2d7c151-02c5-4e75-9ad7-a84ba5a33195', metadata={'question': 'Comment supprimer mon compte ?'}, page_content=\"Connectez-vous, allez dans 'Paramètres' > 'Confidentialité'. Cliquez sur 'Supprimer mon compte'. Confirmez votre mot de passe et validez. Vos données seront supprimées dans les 30 jours.\"),\n",
       "  Document(id='fc9be6b1-16f3-4210-9e16-7ecb61929d17', metadata={'question': 'Comment voir l’historique de mes actions ?'}, page_content=\"Allez dans 'Mon compte' > 'Historique' ou 'Activité'. Vous y verrez la liste de vos connexions, actions récentes et modifications apportées. Certaines plateformes proposent aussi des exports CSV.\")]}"
      ]
     },
     "execution_count": 21,
     "metadata": {},
     "output_type": "execute_result"
    }
   ],
   "source": [
    "llm_response = qa_chain.invoke(query)\n",
    "\n",
    "llm_response"
   ]
  },
  {
   "cell_type": "code",
   "execution_count": 22,
   "id": "2635836c",
   "metadata": {},
   "outputs": [
    {
     "name": "stdout",
     "output_type": "stream",
     "text": [
      "1. Ensure that you are entering the correct login credentials (email and password).\n",
      "2. Check if your account is active. If it's not, you may need to activate it or reset your password.\n",
      "3. Try logging in from a different browser or device to exclude a local bug.\n",
      "4. Make sure that there are no typos or errors in the URL of the website you are trying to access.\n",
      "5. If you still can't log in, try resetting your password by clicking on \"Forgot Password\" or \"Reset Password\" link on the login page.\n",
      "6. If none of these steps work, contact the customer support team for assistance.\n"
     ]
    }
   ],
   "source": [
    "process_llm_response(llm_response)"
   ]
  },
  {
   "cell_type": "markdown",
   "id": "2f0c6459",
   "metadata": {},
   "source": [
    "## Essai stream"
   ]
  },
  {
   "cell_type": "code",
   "execution_count": 3,
   "id": "fe74c6ea",
   "metadata": {},
   "outputs": [],
   "source": [
    "from langchain_ollama import OllamaLLM\n",
    "from langchain_chroma import Chroma\n",
    "from langchain.chains import RetrievalQA\n",
    "from langchain.callbacks.streaming_stdout import StreamingStdOutCallbackHandler"
   ]
  },
  {
   "cell_type": "code",
   "execution_count": 6,
   "id": "f1f8e543",
   "metadata": {},
   "outputs": [],
   "source": [
    "embeddings = OllamaEmbeddings(model=\"nomic-embed-text\")"
   ]
  },
  {
   "cell_type": "code",
   "execution_count": 11,
   "id": "d1059bc4",
   "metadata": {},
   "outputs": [],
   "source": [
    "vectorstore = Chroma(\n",
    "    persist_directory=\"./chroma_faq\",\n",
    "    embedding_function=embeddings  # Embedding déjà présent\n",
    ")"
   ]
  },
  {
   "cell_type": "code",
   "execution_count": 13,
   "id": "b023905f",
   "metadata": {},
   "outputs": [],
   "source": [
    "retriever = vectorstore.as_retriever(search_kwargs={\"k\": 4})"
   ]
  },
  {
   "cell_type": "code",
   "execution_count": 40,
   "id": "585dcba8",
   "metadata": {},
   "outputs": [],
   "source": [
    "llm = OllamaLLM(\n",
    "    model=\"mistral\",\n",
    "    temperature=0.2,\n",
    "    streaming=True,\n",
    "    callbacks=[StreamingStdOutCallbackHandler()]  # Affiche dans la console\n",
    ")"
   ]
  },
  {
   "cell_type": "code",
   "execution_count": 41,
   "id": "be0433b4",
   "metadata": {},
   "outputs": [],
   "source": [
    "qa_chain = RetrievalQA.from_chain_type(\n",
    "    llm=llm,\n",
    "    chain_type=\"stuff\",\n",
    "    retriever=retriever,\n",
    "    return_source_documents=True\n",
    ")"
   ]
  },
  {
   "cell_type": "code",
   "execution_count": 43,
   "id": "ebd52ba2",
   "metadata": {},
   "outputs": [
    {
     "name": "stdout",
     "output_type": "stream",
     "text": [
      " To create an account, you can follow these steps:\n",
      "\n",
      "1. Go to the login page.\n",
      "2. Click on 'Sign Up' or 'Create Account'.\n",
      "3. Fill in the required fields such as your email address, password, and any other information asked for.\n",
      "4. Confirm that you have read and agreed to the platform's terms of service and privacy policy.\n",
      "5. Click on 'Submit' or 'Create Account' to complete the registration process.\n",
      "6. You will then receive an email to verify your account. Follow the instructions in the email to activate your account."
     ]
    }
   ],
   "source": [
    "# query = \"Comment puis-je signaler un bug sur la plateforme ?\"\n",
    "# import base64\n",
    "# def to_base64(image_path: str) -> str:\n",
    "#         with open(image_path, \"rb\") as img_file:\n",
    "#             return base64.b64encode(img_file.read()).decode(\"utf-8\")\n",
    "        \n",
    "# image= to_base64(\"faq.jpg\")\n",
    "# image\n",
    "response = qa_chain.invoke(\"Je veux créer un compte je fais comment ?\")\n",
    "\n",
    "# print(\"\\nRéponse complète :\")\n",
    "# print(response[\"result\"])"
   ]
  },
  {
   "cell_type": "code",
   "execution_count": 78,
   "id": "d9cbecc8",
   "metadata": {},
   "outputs": [
    {
     "name": "stdout",
     "output_type": "stream",
     "text": [
      "\n",
      "📚 Sources :\n",
      "- Comment modifier mes informations personnelles ?\n"
     ]
    }
   ],
   "source": [
    "print(\"\\n📚 Sources :\")\n",
    "for doc in response[\"source_documents\"]:\n",
    "    print(f\"- {doc.metadata['question']}\")"
   ]
  },
  {
   "cell_type": "code",
   "execution_count": 86,
   "id": "9877c193",
   "metadata": {},
   "outputs": [
    {
     "name": "stdout",
     "output_type": "stream",
     "text": [
      " If you can't log in to your account, it might be due to several reasons such as incorrect login credentials or a problem with the website. Here are some troubleshooting steps you could try:\n",
      "\n",
      "1. Check that you have entered the correct email address and password.\n",
      "2. Make sure that CAPS LOCK is off when entering your password.\n",
      "3. If you recently changed your password, make sure you're using the new one.\n",
      "4. Try resetting your password if you can't remember it or think it might have been changed.\n",
      "5. Clear your browser cache and cookies, as they may be causing issues with the login process.\n",
      "6. If you continue to experience problems, contact the website's support team for assistance.\n",
      "\n",
      "\n",
      "Sources:\n",
      "Comment modifier mes informations personnelles ?\n"
     ]
    }
   ],
   "source": [
    "process_llm_response(response)"
   ]
  },
  {
   "cell_type": "markdown",
   "id": "7fcf2fbd",
   "metadata": {},
   "source": [
    "## Encore test"
   ]
  },
  {
   "cell_type": "code",
   "execution_count": 10,
   "id": "6d8e8b1f",
   "metadata": {},
   "outputs": [],
   "source": [
    "import base64\n",
    "def to_base64(image_path: str) -> str:\n",
    "        with open(image_path, \"rb\") as img_file:\n",
    "            return base64.b64encode(img_file.read()).decode(\"utf-8\")"
   ]
  },
  {
   "cell_type": "code",
   "execution_count": 11,
   "id": "10021348",
   "metadata": {},
   "outputs": [
    {
     "data": {
      "text/plain": [
       "'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'"
      ]
     },
     "execution_count": 11,
     "metadata": {},
     "output_type": "execute_result"
    }
   ],
   "source": [
    "image= to_base64(\"faq.jpg\")\n",
    "image"
   ]
  },
  {
   "cell_type": "code",
   "execution_count": 39,
   "id": "cc51ce16",
   "metadata": {},
   "outputs": [
    {
     "name": "stdout",
     "output_type": "stream",
     "text": [
      "1. Essayez de vous connecter en utilisant un autre navigateur ou appareil pour exclure un bug local.\n",
      "2. Assurez-vous que votre adresse e-mail et mot de passe sont corrects.\n",
      "3. Si le problème persiste, essayez de réinitialiser votre mot de passe en cliquant sur 'Réinitialiser mon mot de passe' dans la page de connexion.\n",
      "4. Si vous n'avez toujours pas pu vous connecter, contactez le support technique pour plus d'aide."
     ]
    }
   ],
   "source": [
    "from langchain_ollama import OllamaLLM\n",
    "from langchain_chroma import Chroma\n",
    "\n",
    "# Fonction qui retourne un vrai flux de tokens générés\n",
    "def stream_mistral_response(query: str):\n",
    "    # Charger Chroma\n",
    "    vectorstore = Chroma(\n",
    "        persist_directory=\"./chroma_faq\",\n",
    "        embedding_function=embeddings\n",
    "    )\n",
    "    retriever = vectorstore.as_retriever(search_kwargs={\"k\": 3})\n",
    "\n",
    "    # Récupérer les documents les plus pertinents\n",
    "    docs = retriever.invoke(query)\n",
    "    context = \"\\n\\n\".join(doc.page_content for doc in docs)\n",
    "\n",
    "    # Construire prompt\n",
    "    prompt = f\"\"\"Tu es un assistant intelligent. Voici des documents pouvant t’aider à répondre.\n",
    "Documents :\n",
    "{context}\n",
    "\n",
    "Question :\n",
    "{query}\n",
    "\n",
    "Réponse (sois clair, concis et précis) :\n",
    "\"\"\"\n",
    "\n",
    "    # Initialiser Ollama avec streaming natif\n",
    "    llm = OllamaLLM(model=\"mistral\", temperature=0.2)\n",
    "\n",
    "    # Retourner un vrai générateur depuis Ollama\n",
    "    for chunk in llm.stream(prompt):\n",
    "        yield chunk\n",
    "\n",
    "\n",
    "for token in stream_mistral_response(query):\n",
    "    print(token, end=\"\", flush=True)\n"
   ]
  },
  {
   "cell_type": "markdown",
   "id": "f94da88a",
   "metadata": {},
   "source": [
    "## Test avec Image"
   ]
  },
  {
   "cell_type": "code",
   "execution_count": 27,
   "id": "cb1dd350",
   "metadata": {},
   "outputs": [],
   "source": [
    "import base64\n",
    "import requests\n",
    "\n",
    "def ask_ollama_with_image(prompt: str, image_path: str=None):\n",
    "    \n",
    "    if image_path:\n",
    "        with open(image_path, \"rb\") as f:\n",
    "            image_base64 = base64.b64encode(f.read()).decode(\"utf-8\")\n",
    "    else:\n",
    "        image_base64 = None\n",
    "    payload = {\n",
    "        \"model\": \"mistral\",\n",
    "        \"prompt\": prompt,\n",
    "        \"images\": [image_base64],\n",
    "        \"stream\": False\n",
    "    }\n",
    "\n",
    "    response = requests.post(\"http://localhost:11434/api/generate\", json=payload)\n",
    "    response.raise_for_status()\n",
    "    return response.json()[\"response\"]\n"
   ]
  },
  {
   "cell_type": "code",
   "execution_count": 34,
   "id": "5bef5429",
   "metadata": {},
   "outputs": [],
   "source": [
    "def rag_llava_response(user_question: str, image_path: str = None):\n",
    "    # Recherche vectorielle\n",
    "    vectorstore = Chroma(persist_directory=\"./chroma_faq\", embedding_function=embeddings)\n",
    "    retriever = vectorstore.as_retriever(search_kwargs={\"k\": 4})\n",
    "    docs = retriever.invoke(user_question)\n",
    "    context = \"\\n\\n\".join(doc.page_content for doc in docs)\n",
    "\n",
    "    # Construction du prompt\n",
    "    prompt = f\"\"\"\n",
    "    Tu es un assistant intelligent. Voici des documents extraits d'une base de connaissance :\n",
    "    {context}\n",
    "    Tire tes réponses de ces documents. Une proposition par document\n",
    "\n",
    "    Voici sa question :\n",
    "    {user_question}\n",
    "\n",
    "    Réponds de manière claire et détaillée.\n",
    "    \"\"\"\n",
    "\n",
    "    return ask_ollama_with_image(prompt, image_path)\n"
   ]
  },
  {
   "cell_type": "code",
   "execution_count": 35,
   "id": "509ceab6",
   "metadata": {},
   "outputs": [
    {
     "name": "stdout",
     "output_type": "stream",
     "text": [
      "1. Essayez d'utiliser un autre navigateur ou appareil pour vous connecter à votre compte, car il est possible qu'il y ait un problème local.\n",
      "\n",
      "2. Si cela ne fonctionne toujours pas, assurez-vous que vous avez entré les informations de connexion correctes (nom d'utilisateur et mot de passe).\n",
      "\n",
      "3. Vérifiez si votre compte est actif, car il peut être suspendu ou bloqué en cas de violation des conditions générales d'utilisation.\n",
      "\n",
      "4. Essayez de vous réinitialiser le mot de passe si vous n'en avez plus accès ou si vous pensez que celui-ci a été compromis.\n",
      "\n",
      "5. Si tous les autres solutions ne fonctionnent toujours pas, n'hésitez pas à contacter le support technique pour obtenir de l'aide supplémentaire.\n"
     ]
    }
   ],
   "source": [
    "result = rag_llava_response(query)\n",
    "\n",
    "# \"Pourquoi mon interface affiche cette erreur ?\",\n",
    "    # image_path=\"faq.jpg\"\n",
    "\n",
    "print(result)\n"
   ]
  },
  {
   "cell_type": "code",
   "execution_count": 30,
   "id": "d7904a26",
   "metadata": {},
   "outputs": [
    {
     "data": {
      "text/plain": [
       "[Document(id='03e8d92e-2720-417c-bcf0-3ff0cabdc090', metadata={'question': 'Comment modifier mes informations personnelles ?'}, page_content=\"Connectez-vous à votre compte. Allez dans la section 'Profil' ou 'Paramètres'. Cliquez sur 'Modifier les informations'. Mettez à jour vos données (nom, prénom, téléphone, etc.), puis cliquez sur 'Enregistrer'.\"),\n",
       " Document(id='78a08d7c-45fc-42ef-a52e-c657df510e92', metadata={'question': 'Je ne peux pas envoyer de messages.'}, page_content='Vérifiez si vous êtes bien connecté et que votre compte est actif. Assurez-vous que le destinataire vous autorise à le contacter. Essayez depuis un autre navigateur ou appareil pour exclure un bug local.'),\n",
       " Document(id='b2d7c151-02c5-4e75-9ad7-a84ba5a33195', metadata={'question': 'Comment supprimer mon compte ?'}, page_content=\"Connectez-vous, allez dans 'Paramètres' > 'Confidentialité'. Cliquez sur 'Supprimer mon compte'. Confirmez votre mot de passe et validez. Vos données seront supprimées dans les 30 jours.\"),\n",
       " Document(id='fc9be6b1-16f3-4210-9e16-7ecb61929d17', metadata={'question': 'Comment voir l’historique de mes actions ?'}, page_content=\"Allez dans 'Mon compte' > 'Historique' ou 'Activité'. Vous y verrez la liste de vos connexions, actions récentes et modifications apportées. Certaines plateformes proposent aussi des exports CSV.\")]"
      ]
     },
     "execution_count": 30,
     "metadata": {},
     "output_type": "execute_result"
    }
   ],
   "source": [
    "docs = retriever.invoke(query)\n",
    "docs"
   ]
  },
  {
   "cell_type": "markdown",
   "id": "4c5c5b6c",
   "metadata": {},
   "source": [
    "## ConversationalRetrievalChain"
   ]
  },
  {
   "cell_type": "code",
   "execution_count": 12,
   "id": "02b61721",
   "metadata": {},
   "outputs": [
    {
     "name": "stdout",
     "output_type": "stream",
     "text": [
      " If you have lost the email address associated with your account, the process to reset your password may not be straightforward. Since the password reset link is sent via email, you might need to contact the platform support team for assistance. You can use the integrated contact form on the platform or send an email to support@votreplateforme.com, providing as many details as possible about your problem to facilitate a quick resolution. They may be able to help you regain access to your account by verifying your identity in some other way. However, the exact process might depend on the specific policies and procedures of the platform.\n"
     ]
    }
   ],
   "source": [
    "from langchain.chains import ConversationalRetrievalChain\n",
    "from langchain_ollama import OllamaLLM\n",
    "from langchain_chroma import Chroma\n",
    "from langchain.memory import ConversationBufferMemory\n",
    "\n",
    "# Vectorstore\n",
    "vectorstore = Chroma(\n",
    "    persist_directory=\"./chroma_faq\",\n",
    "    embedding_function=embeddings\n",
    ")\n",
    "\n",
    "retriever = vectorstore.as_retriever(search_kwargs={\"k\": 3})\n",
    "\n",
    "# Mémoire de conversation\n",
    "memory = ConversationBufferMemory(\n",
    "    memory_key=\"chat_history\", return_messages=True\n",
    ")\n",
    "\n",
    "# Modèle LLM\n",
    "llm = OllamaLLM(model=\"mistral\", temperature=0.2)\n",
    "\n",
    "# Chaîne conversationnelle\n",
    "qa_chain = ConversationalRetrievalChain.from_llm(\n",
    "    llm=llm,\n",
    "    retriever=retriever,\n",
    "    memory=memory,\n",
    "    return_source_documents=False\n",
    ")\n",
    "\n",
    "# Test de conversation\n",
    "chat_1 = qa_chain.invoke({\"question\": \"Comment changer mon mot de passe ?\"})\n",
    "chat_2 = qa_chain.invoke({\"question\": \"Et si j'ai perdu mon email ?\"})\n",
    "chat_3 = qa_chain.invoke({\"question\": \"Si tu te rappelle de mon ancienne question alors quelle etait mon ancienne question ?\"})# mémoire utilisée ici\n",
    "\n",
    "print(chat_2[\"answer\"])\n"
   ]
  },
  {
   "cell_type": "code",
   "execution_count": 13,
   "id": "fbbe304c",
   "metadata": {},
   "outputs": [
    {
     "name": "stdout",
     "output_type": "stream",
     "text": [
      " Your previous question was not provided in the context you've given. The text provided appears to be instructions for using a platform or website, but it doesn't contain a question.\n"
     ]
    }
   ],
   "source": [
    "print(chat_3[\"answer\"])"
   ]
  },
  {
   "cell_type": "code",
   "execution_count": 17,
   "id": "57d081d5",
   "metadata": {},
   "outputs": [],
   "source": [
    "from langchain_ollama import OllamaLLM\n",
    "from langchain_chroma import Chroma\n",
    "\n",
    "# Contexte de mémoire manuelle (liste de tuples question, réponse)\n",
    "chat_history = []\n",
    "\n",
    "# Fonction génératrice avec mémoire\n",
    "def stream_rag_with_memory(user_question: str):\n",
    "    # 1. Recherche vectorielle\n",
    "    vectorstore = Chroma(\n",
    "        persist_directory=\"./chroma_faq\",\n",
    "        embedding_function=embeddings\n",
    "    )\n",
    "    retriever = vectorstore.as_retriever(search_kwargs={\"k\": 3})\n",
    "    docs = retriever.invoke(user_question)\n",
    "    context = \"\\n\\n\".join(doc.page_content for doc in docs)\n",
    "\n",
    "    # 2. Historique formaté\n",
    "    history_text = \"\"\n",
    "    for q, a in chat_history:\n",
    "        history_text += f\"Utilisateur : {q}\\nAssistant : {a}\\n\"\n",
    "\n",
    "    # 3. Prompt complet\n",
    "    prompt = f\"\"\"\n",
    "Tu es un assistant intelligent.\n",
    "Voici l'historique de la conversation :\n",
    "{history_text}\n",
    "\n",
    "Voici des documents qui pourraient t’aider :\n",
    "{context}\n",
    "\n",
    "Nouvelle question : {user_question}\n",
    "Réponds de façon claire, utile et précise.\n",
    "\"\"\"\n",
    "\n",
    "    # 4. LLM avec streaming\n",
    "    llm = OllamaLLM(model=\"mistral\", temperature=0.2)\n",
    "\n",
    "    full_answer = \"\"\n",
    "    for chunk in llm.stream(prompt):\n",
    "        token = chunk\n",
    "        full_answer += token\n",
    "        yield token\n",
    "\n",
    "    # 5. Sauvegarder en mémoire (à la fin)\n",
    "    chat_history.append((user_question, full_answer))\n"
   ]
  },
  {
   "cell_type": "code",
   "execution_count": 18,
   "id": "8a441337",
   "metadata": {},
   "outputs": [
    {
     "name": "stdout",
     "output_type": "stream",
     "text": [
      " Pour signaler un problème sur notre plateforme, vous pouvez suivre les étapes ci-dessous :\n",
      "\n",
      "1. Cliquez sur le bouton 'Signaler un problème' en bas à gauche de l'écran. Ce bouton est généralement situé dans la barre latérale ou dans le menu contextuel.\n",
      "2. Une fenêtre s'ouvrira où vous pourrez décrire le bug rencontré avec les étapes pour le reproduire. Veuillez être précis et fournir toutes les informations nécessaires pour que notre équipe puisse résoudre le problème rapidement.\n",
      "3. Si possible, joignez une capture d’écran du bug pour aider à mieux comprendre la situation.\n",
      "4. Appuyez sur 'Envoyer' ou 'Signaler'. Votre message sera alors envoyé à notre équipe de support technique qui vous répondra rapidement.\n",
      "\n",
      "Si le bouton 'Signaler un problème' n'apparaît pas, vous pouvez également nous contacter par courrier électronique en nous fournissant les informations nécessaires pour reproduire le bug. Nous vous répondrons dans les plus brefs délais possible. Si vous ne pouvez plus accéder à votre compte, il est possible que vous ayez oublié votre mot de passe ou que votre compte ait été bloqué pour des raisons de sécurité. Voici les étapes à suivre :\n",
      "\n",
      "1. Essayez de réinitialiser votre mot de passe en cliquant sur le lien \"Mot de passe oublié\" lorsque vous tentez de vous connecter. Suivez les instructions pour récupérer un nouveau mot de passe.\n",
      "2. Si vous n'avez pas accès à l'adresse e-mail associée à votre compte, contactez notre équipe de support technique en utilisant le bouton \"Signaler un problème\" ou en envoyant un courrier électronique à l'adresse [support@nous.com](mailto:support@nous.com). Veuillez fournir les informations suivantes :\n",
      "   - Votre adresse e-mail associée à votre compte\n",
      "   - Le nom de votre compte (si vous en connaissez un)\n",
      "   - La plateforme sur laquelle vous avez un compte\n",
      "3. Notre équipe de support technique se mettra en contact avec vous pour vous aider à récupérer accès à votre compte."
     ]
    }
   ],
   "source": [
    "for token in stream_rag_with_memory(\"Comment signaler un bug ?\"):\n",
    "    print(token, end=\"\", flush=True)\n",
    "\n",
    "# Puis\n",
    "for token in stream_rag_with_memory(\"Et si je ne peux plus accéder à mon compte ?\"):\n",
    "    print(token, end=\"\", flush=True)\n"
   ]
  },
  {
   "cell_type": "markdown",
   "id": "b986555f",
   "metadata": {},
   "source": [
    "# LangGraph.py"
   ]
  },
  {
   "cell_type": "code",
   "execution_count": 19,
   "id": "10464fcc",
   "metadata": {},
   "outputs": [
    {
     "name": "stdout",
     "output_type": "stream",
     "text": [
      "Collecting langgraph\n",
      "  Downloading langgraph-0.4.8-py3-none-any.whl.metadata (6.8 kB)\n",
      "Requirement already satisfied: langchain-core>=0.1 in d:\\rag_ngstars\\.venv\\lib\\site-packages (from langgraph) (0.3.66)\n",
      "Collecting langgraph-checkpoint>=2.0.26 (from langgraph)\n",
      "  Downloading langgraph_checkpoint-2.1.0-py3-none-any.whl.metadata (4.2 kB)\n",
      "Collecting langgraph-prebuilt>=0.2.0 (from langgraph)\n",
      "  Downloading langgraph_prebuilt-0.2.2-py3-none-any.whl.metadata (4.5 kB)\n",
      "Collecting langgraph-sdk>=0.1.42 (from langgraph)\n",
      "  Downloading langgraph_sdk-0.1.70-py3-none-any.whl.metadata (1.5 kB)\n",
      "Requirement already satisfied: pydantic>=2.7.4 in d:\\rag_ngstars\\.venv\\lib\\site-packages (from langgraph) (2.11.7)\n",
      "Collecting xxhash>=3.5.0 (from langgraph)\n",
      "  Downloading xxhash-3.5.0-cp312-cp312-win_amd64.whl.metadata (13 kB)\n",
      "Requirement already satisfied: langsmith>=0.3.45 in d:\\rag_ngstars\\.venv\\lib\\site-packages (from langchain-core>=0.1->langgraph) (0.4.1)\n",
      "Requirement already satisfied: tenacity!=8.4.0,<10.0.0,>=8.1.0 in d:\\rag_ngstars\\.venv\\lib\\site-packages (from langchain-core>=0.1->langgraph) (9.1.2)\n",
      "Requirement already satisfied: jsonpatch<2.0,>=1.33 in d:\\rag_ngstars\\.venv\\lib\\site-packages (from langchain-core>=0.1->langgraph) (1.33)\n",
      "Requirement already satisfied: PyYAML>=5.3 in d:\\rag_ngstars\\.venv\\lib\\site-packages (from langchain-core>=0.1->langgraph) (6.0.2)\n",
      "Requirement already satisfied: packaging<25,>=23.2 in d:\\rag_ngstars\\.venv\\lib\\site-packages (from langchain-core>=0.1->langgraph) (24.2)\n",
      "Requirement already satisfied: typing-extensions>=4.7 in d:\\rag_ngstars\\.venv\\lib\\site-packages (from langchain-core>=0.1->langgraph) (4.14.0)\n",
      "Collecting ormsgpack>=1.10.0 (from langgraph-checkpoint>=2.0.26->langgraph)\n",
      "  Downloading ormsgpack-1.10.0-cp312-cp312-win_amd64.whl.metadata (44 kB)\n",
      "Requirement already satisfied: httpx>=0.25.2 in d:\\rag_ngstars\\.venv\\lib\\site-packages (from langgraph-sdk>=0.1.42->langgraph) (0.28.1)\n",
      "Requirement already satisfied: orjson>=3.10.1 in d:\\rag_ngstars\\.venv\\lib\\site-packages (from langgraph-sdk>=0.1.42->langgraph) (3.10.18)\n",
      "Requirement already satisfied: annotated-types>=0.6.0 in d:\\rag_ngstars\\.venv\\lib\\site-packages (from pydantic>=2.7.4->langgraph) (0.7.0)\n",
      "Requirement already satisfied: pydantic-core==2.33.2 in d:\\rag_ngstars\\.venv\\lib\\site-packages (from pydantic>=2.7.4->langgraph) (2.33.2)\n",
      "Requirement already satisfied: typing-inspection>=0.4.0 in d:\\rag_ngstars\\.venv\\lib\\site-packages (from pydantic>=2.7.4->langgraph) (0.4.1)\n",
      "Requirement already satisfied: anyio in d:\\rag_ngstars\\.venv\\lib\\site-packages (from httpx>=0.25.2->langgraph-sdk>=0.1.42->langgraph) (4.9.0)\n",
      "Requirement already satisfied: certifi in d:\\rag_ngstars\\.venv\\lib\\site-packages (from httpx>=0.25.2->langgraph-sdk>=0.1.42->langgraph) (2025.6.15)\n",
      "Requirement already satisfied: httpcore==1.* in d:\\rag_ngstars\\.venv\\lib\\site-packages (from httpx>=0.25.2->langgraph-sdk>=0.1.42->langgraph) (1.0.9)\n",
      "Requirement already satisfied: idna in d:\\rag_ngstars\\.venv\\lib\\site-packages (from httpx>=0.25.2->langgraph-sdk>=0.1.42->langgraph) (3.10)\n",
      "Requirement already satisfied: h11>=0.16 in d:\\rag_ngstars\\.venv\\lib\\site-packages (from httpcore==1.*->httpx>=0.25.2->langgraph-sdk>=0.1.42->langgraph) (0.16.0)\n",
      "Requirement already satisfied: jsonpointer>=1.9 in d:\\rag_ngstars\\.venv\\lib\\site-packages (from jsonpatch<2.0,>=1.33->langchain-core>=0.1->langgraph) (3.0.0)\n",
      "Requirement already satisfied: requests<3,>=2 in d:\\rag_ngstars\\.venv\\lib\\site-packages (from langsmith>=0.3.45->langchain-core>=0.1->langgraph) (2.32.4)\n",
      "Requirement already satisfied: requests-toolbelt<2.0.0,>=1.0.0 in d:\\rag_ngstars\\.venv\\lib\\site-packages (from langsmith>=0.3.45->langchain-core>=0.1->langgraph) (1.0.0)\n",
      "Requirement already satisfied: zstandard<0.24.0,>=0.23.0 in d:\\rag_ngstars\\.venv\\lib\\site-packages (from langsmith>=0.3.45->langchain-core>=0.1->langgraph) (0.23.0)\n",
      "Requirement already satisfied: charset_normalizer<4,>=2 in d:\\rag_ngstars\\.venv\\lib\\site-packages (from requests<3,>=2->langsmith>=0.3.45->langchain-core>=0.1->langgraph) (3.4.2)\n",
      "Requirement already satisfied: urllib3<3,>=1.21.1 in d:\\rag_ngstars\\.venv\\lib\\site-packages (from requests<3,>=2->langsmith>=0.3.45->langchain-core>=0.1->langgraph) (2.5.0)\n",
      "Requirement already satisfied: sniffio>=1.1 in d:\\rag_ngstars\\.venv\\lib\\site-packages (from anyio->httpx>=0.25.2->langgraph-sdk>=0.1.42->langgraph) (1.3.1)\n",
      "Downloading langgraph-0.4.8-py3-none-any.whl (152 kB)\n",
      "Downloading langgraph_checkpoint-2.1.0-py3-none-any.whl (43 kB)\n",
      "Downloading langgraph_prebuilt-0.2.2-py3-none-any.whl (23 kB)\n",
      "Downloading langgraph_sdk-0.1.70-py3-none-any.whl (49 kB)\n",
      "Downloading xxhash-3.5.0-cp312-cp312-win_amd64.whl (30 kB)\n",
      "Downloading ormsgpack-1.10.0-cp312-cp312-win_amd64.whl (121 kB)\n",
      "Installing collected packages: xxhash, ormsgpack, langgraph-sdk, langgraph-checkpoint, langgraph-prebuilt, langgraph\n",
      "Successfully installed langgraph-0.4.8 langgraph-checkpoint-2.1.0 langgraph-prebuilt-0.2.2 langgraph-sdk-0.1.70 ormsgpack-1.10.0 xxhash-3.5.0\n"
     ]
    },
    {
     "name": "stderr",
     "output_type": "stream",
     "text": [
      "\n",
      "[notice] A new release of pip is available: 24.2 -> 25.1.1\n",
      "[notice] To update, run: python.exe -m pip install --upgrade pip\n"
     ]
    }
   ],
   "source": [
    "!pip install langgraph"
   ]
  },
  {
   "cell_type": "code",
   "execution_count": 22,
   "id": "9f930b67",
   "metadata": {},
   "outputs": [],
   "source": [
    "import requests\n",
    "import json\n",
    "from langgraph.graph import StateGraph, END\n",
    "from langchain_chroma import Chroma\n",
    "from langchain.chains import ConversationalRetrievalChain\n",
    "from langchain.memory import ConversationBufferMemory\n",
    "from langchain_ollama import OllamaLLM\n",
    "\n",
    "# ----------- ÉTAT PARTAGÉ DU GRAPH -----------\n",
    "class State(dict):\n",
    "    question: str\n",
    "    classification: dict | None\n",
    "    response: str | None\n",
    "    chat_history: list | None  # utile pour la mémoire de la chaîne\n",
    "\n",
    "# ----------- NŒUD 1 : Classification (si pas encore faite) -----------\n",
    "def check_classification(state: State) -> State:\n",
    "    if state.get(\"classification\"):\n",
    "        return state  # déjà fait\n",
    "\n",
    "    prompt = f\"\"\"\n",
    "Tu es un système d'assistance interne.\n",
    "L'utilisateur a posé la question suivante :\n",
    "\n",
    "\"{state['question']}\"\n",
    "\n",
    "Déduis uniquement :\n",
    "- le **type** du problème : BUG, INCIDENT, QUESTION, SUGGESTION\n",
    "- la **sévérité** : FAIBLE, MOYENNE, CRITIQUE\n",
    "\n",
    "Réponds uniquement en JSON :\n",
    "{{\n",
    "  \"type\": \"...\",\n",
    "  \"severite\": \"...\"\n",
    "}}\n",
    "\"\"\"\n",
    "\n",
    "    payload = {\n",
    "        \"model\": \"mistral\",  # un modèle textuel suffit ici\n",
    "        \"prompt\": prompt,\n",
    "        \"stream\": False\n",
    "    }\n",
    "\n",
    "    r = requests.post(\"http://localhost:11434/api/generate\", json=payload)\n",
    "    r.raise_for_status()\n",
    "    parsed = json.loads(r.json()[\"response\"])\n",
    "    state[\"classification\"] = parsed\n",
    "    return state\n",
    "\n",
    "# ----------- NŒUD 2 : RAG Classique via ConversationalRetrievalChain -----------\n",
    "def run_rag_chain(state: State) -> State:\n",
    "    vectorstore = Chroma(persist_directory=\"./chroma_faq\", embedding_function=embeddings)\n",
    "    retriever = vectorstore.as_retriever()\n",
    "    llm = OllamaLLM(model=\"mistral\", temperature=0.2)\n",
    "\n",
    "    chain = ConversationalRetrievalChain.from_llm(\n",
    "        llm=llm,\n",
    "        retriever=retriever,\n",
    "        memory=ConversationBufferMemory(\n",
    "            memory_key=\"chat_history\",\n",
    "            return_messages=True\n",
    "        ),\n",
    "        return_source_documents=False\n",
    "    )\n",
    "\n",
    "    result = chain.invoke({\"question\": state[\"question\"]})\n",
    "    state[\"response\"] = result[\"answer\"]\n",
    "    return state\n",
    "\n",
    "# ----------- CONSTRUCTION DU GRAPH -----------\n",
    "workflow = StateGraph(State)\n",
    "\n",
    "workflow.add_node(\"check_classification\", check_classification)\n",
    "workflow.add_node(\"run_rag_chain\", run_rag_chain)\n",
    "\n",
    "workflow.set_entry_point(\"check_classification\")\n",
    "workflow.add_edge(\"check_classification\", \"run_rag_chain\")\n",
    "workflow.add_edge(\"run_rag_chain\", END)\n",
    "\n",
    "app = workflow.compile()\n"
   ]
  },
  {
   "cell_type": "code",
   "execution_count": 23,
   "id": "3c7b9252",
   "metadata": {},
   "outputs": [
    {
     "name": "stdout",
     "output_type": "stream",
     "text": [
      "💬 Réponse utilisateur :\n",
      " Il semble que vous ayez des difficultés pour vous connecter à votre compte. Voici quelques étapes qui peuvent vous aider :\n",
      "\n",
      "1. Assurez-vous de saisir correctement votre adresse e-mail et mot de passe. Si vous avez oublié votre mot de passe, cliquez sur le lien \"Mot de passe oublié\" pour réinitialiser votre mot de passe.\n",
      "2. Essayez depuis un autre navigateur ou appareil pour exclure un bug local.\n",
      "3. Vérifiez si vous êtes bien connecté à Internet et que le site Web n'est pas en maintenance.\n",
      "4. Si vous continuez à avoir des difficultés, essayez de contacter l'assistance technique de la plateforme pour obtenir une aide supplémentaire.\n",
      "\n",
      "🔐 Classification interne :\n",
      "{'type': 'INCIDENT', 'severite': 'MOYENNE'}\n"
     ]
    }
   ],
   "source": [
    "state = {\n",
    "    \"question\": query,#\"Pourquoi je ne reçois pas mes emails de confirmation ?\",\n",
    "    \"classification\": None,\n",
    "    \"response\": None,\n",
    "    \"chat_history\": []\n",
    "}\n",
    "\n",
    "result = app.invoke(state)\n",
    "\n",
    "print(\"💬 Réponse utilisateur :\")\n",
    "print(result[\"response\"])\n",
    "\n",
    "print(\"\\n🔐 Classification interne :\")\n",
    "print(result[\"classification\"])\n"
   ]
  },
  {
   "cell_type": "markdown",
   "id": "09103cca",
   "metadata": {},
   "source": [
    "## LangGraph 2"
   ]
  },
  {
   "cell_type": "code",
   "execution_count": 27,
   "id": "9ed45c5c",
   "metadata": {},
   "outputs": [],
   "source": [
    "import json\n",
    "import requests\n",
    "from typing import Generator\n",
    "from langgraph.graph import StateGraph, END\n",
    "from langchain_chroma import Chroma\n",
    "from langchain_ollama import OllamaLLM\n",
    "\n",
    "# Mémoire persistante simulée\n",
    "memory_store = {}\n",
    "\n",
    "# ----------- ÉTAT -----------\n",
    "class State(dict):\n",
    "    question: str\n",
    "    classification: dict | None\n",
    "    context: str | None\n",
    "    stream_generator: Generator[str, None, None] | None\n",
    "    conversation_id: str\n",
    "\n",
    "\n",
    "# ----------- NŒUD 1 : CLASSIFICATION -----------\n",
    "def check_classification(state: State) -> State:\n",
    "    convo_id = state[\"conversation_id\"]\n",
    "    existing = memory_store.get(convo_id)\n",
    "\n",
    "    # Classification déjà faite ?\n",
    "    if existing and existing.get(\"classification\"):\n",
    "        state[\"classification\"] = existing[\"classification\"]\n",
    "        return state\n",
    "\n",
    "    # Sinon, on fait la classification\n",
    "    prompt = f\"\"\"\n",
    "Tu es un assistant système. Voici une question utilisateur :\n",
    "\n",
    "\"{state['question']}\"\n",
    "\n",
    "Classifie le type du problème (BUG, INCIDENT, QUESTION, SUGGESTION)\n",
    "et la sévérité (FAIBLE, MOYENNE, CRITIQUE). Réponds uniquement en JSON :\n",
    "{{\n",
    "  \"type\": \"...\",\n",
    "  \"severite\": \"...\"\n",
    "}}\n",
    "\"\"\"\n",
    "\n",
    "    r = requests.post(\"http://localhost:11434/api/generate\", json={\n",
    "        \"model\": \"mistral\",\n",
    "        \"prompt\": prompt,\n",
    "        \"stream\": False\n",
    "    })\n",
    "    r.raise_for_status()\n",
    "    response = r.json()[\"response\"]\n",
    "    try:\n",
    "        classification = json.loads(response)\n",
    "    except json.JSONDecodeError:\n",
    "        classification = {\"type\": \"INCONNU\", \"severite\": \"FAIBLE\"}\n",
    "\n",
    "    state[\"classification\"] = classification\n",
    "    return state\n",
    "\n",
    "# ----------- NŒUD 2 : RECHERCHE RAG -----------\n",
    "def retrieve_context(state: State) -> State:\n",
    "    db = Chroma(persist_directory=\"./chroma_faq\", embedding_function=embeddings)\n",
    "    retriever = db.as_retriever(search_kwargs={\"k\": 3})\n",
    "    docs = retriever.invoke(state[\"question\"])\n",
    "    state[\"context\"] = \"\\n\\n\".join([doc.page_content for doc in docs])\n",
    "    return state\n",
    "\n",
    "# ----------- NŒUD 3 : GÉNÉRATION STREAMÉE -----------\n",
    "def stream_response(state: State) -> State:\n",
    "    prompt = f\"\"\"\n",
    "Tu es un assistant technique.\n",
    "\n",
    "Contexte de la base :\n",
    "{state[\"context\"]}\n",
    "\n",
    "Question utilisateur :\n",
    "{state[\"question\"]}\n",
    "\n",
    "Fais une réponse claire et utile.\n",
    "\"\"\"\n",
    "\n",
    "    def token_generator():\n",
    "        r = requests.post(\"http://localhost:11434/api/generate\", json={\n",
    "            \"model\": \"mistral\",\n",
    "            \"prompt\": prompt,\n",
    "            \"stream\": True\n",
    "        }, stream=True)\n",
    "\n",
    "        for line in r.iter_lines():\n",
    "            if not line or not line.startswith(b'data: '):\n",
    "                continue\n",
    "            try:\n",
    "                payload = json.loads(line[6:])\n",
    "                token = payload.get(\"response\")\n",
    "                if token:\n",
    "                    yield token\n",
    "            except Exception:\n",
    "                continue\n",
    "\n",
    "    state[\"stream_generator\"] = token_generator()\n",
    "    return state\n",
    "\n",
    "# ----------- CONSTRUCTION DU GRAPH -----------\n",
    "workflow = StateGraph(State)\n",
    "workflow.add_node(\"check_classification\", check_classification)\n",
    "workflow.add_node(\"retrieve_context\", retrieve_context)\n",
    "workflow.add_node(\"stream_response\", stream_response)\n",
    "\n",
    "workflow.set_entry_point(\"check_classification\")\n",
    "workflow.add_edge(\"check_classification\", \"retrieve_context\")\n",
    "workflow.add_edge(\"retrieve_context\", \"stream_response\")\n",
    "workflow.add_edge(\"stream_response\", END)\n",
    "\n",
    "app = workflow.compile()\n",
    "\n",
    "\n",
    "# ----------- GESTION CONVERSATION MULTI-QUESTIONS -----------\n",
    "def run_conversation(conversation_id: str, question: str):\n",
    "    state = {\n",
    "        \"conversation_id\": conversation_id,\n",
    "        \"question\": question,\n",
    "        \"classification\": None,\n",
    "        \"context\": None,\n",
    "        \"stream_generator\": None\n",
    "    }\n",
    "\n",
    "    result = app.invoke(state)\n",
    "    memory_store[conversation_id] = result  # Persistance du state\n",
    "\n",
    "    return result[\"stream_generator\"], result[\"classification\"]\n"
   ]
  },
  {
   "cell_type": "code",
   "execution_count": 29,
   "id": "6746d48f",
   "metadata": {},
   "outputs": [
    {
     "data": {
      "image/png": "[encoded data removed]",
      "text/plain": [
       "<IPython.core.display.Image object>"
      ]
     },
     "metadata": {},
     "output_type": "display_data"
    }
   ],
   "source": [
    "from IPython.display import Image, display\n",
    "display(Image(app.get_graph().draw_mermaid_png()))"
   ]
  },
  {
   "cell_type": "code",
   "execution_count": 28,
   "id": "a22d9309",
   "metadata": {},
   "outputs": [
    {
     "name": "stdout",
     "output_type": "stream",
     "text": [
      "Classification : {'type': 'INCIDENT', 'severite': 'CRITIQUE'}\n",
      "Réponse : \n",
      "\n",
      "Classification (reprise) : {'type': 'INCIDENT', 'severite': 'CRITIQUE'}\n",
      "Réponse : "
     ]
    }
   ],
   "source": [
    "# L'utilisateur pose une première question\n",
    "stream, classification = run_conversation(\"convo-abc\", \"Je ne reçois pas les mails de validation.\")\n",
    "print(\"Classification :\", classification)\n",
    "print(\"Réponse : \", end=\"\")\n",
    "for token in stream:\n",
    "    print(token, end=\"\", flush=True)\n",
    "\n",
    "# L'utilisateur continue dans le même sujet\n",
    "stream2, classification2 = run_conversation(\"convo-abc\", \"Et je fais quoi si ça persiste ?\")\n",
    "print(\"\\n\\nClassification (reprise) :\", classification2)\n",
    "print(\"Réponse : \", end=\"\")\n",
    "for token in stream2:\n",
    "    print(token, end=\"\", flush=True)\n"
   ]
  }
 ],
 "metadata": {
  "kernelspec": {
   "display_name": ".venv",
   "language": "python",
   "name": "python3"
  },
  "language_info": {
   "codemirror_mode": {
    "name": "ipython",
    "version": 3
   },
   "file_extension": ".py",
   "mimetype": "text/x-python",
   "name": "python",
   "nbconvert_exporter": "python",
   "pygments_lexer": "ipython3",
   "version": "3.12.6"
  }
 },
 "nbformat": 4,
 "nbformat_minor": 5
}
